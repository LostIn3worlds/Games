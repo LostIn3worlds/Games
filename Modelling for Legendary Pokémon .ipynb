{
 "cells": [
  {
   "cell_type": "markdown",
   "id": "91b919e9",
   "metadata": {},
   "source": [
    "# Import data and libraries "
   ]
  },
  {
   "cell_type": "code",
   "execution_count": 1,
   "id": "015adfdd",
   "metadata": {},
   "outputs": [],
   "source": [
    "# libraries for data handling\n",
    "import numpy as np\n",
    "import pandas as pd\n",
    "\n",
    "# libraries for modelling \n",
    "from sklearn.model_selection import train_test_split\n",
    "from sklearn.metrics import classification_report,confusion_matrix\n",
    "from sklearn.ensemble import RandomForestClassifier\n"
   ]
  },
  {
   "cell_type": "markdown",
   "id": "cfe8555d",
   "metadata": {},
   "source": [
    "Source of data: https://www.kaggle.com/datasets/abcsds/pokemon"
   ]
  },
  {
   "cell_type": "code",
   "execution_count": 2,
   "id": "a69495ea",
   "metadata": {},
   "outputs": [],
   "source": [
    "# import data\n",
    "pokemon = pd.read_csv(\"Pokemon.csv\", index_col = \"#\")"
   ]
  },
  {
   "cell_type": "markdown",
   "id": "0363caca",
   "metadata": {},
   "source": [
    "# Overview "
   ]
  },
  {
   "cell_type": "code",
   "execution_count": 3,
   "id": "5f5ec14e",
   "metadata": {
    "scrolled": true
   },
   "outputs": [
    {
     "name": "stdout",
     "output_type": "stream",
     "text": [
      "<class 'pandas.core.frame.DataFrame'>\n",
      "Int64Index: 800 entries, 1 to 721\n",
      "Data columns (total 12 columns):\n",
      " #   Column      Non-Null Count  Dtype \n",
      "---  ------      --------------  ----- \n",
      " 0   Name        800 non-null    object\n",
      " 1   Type 1      800 non-null    object\n",
      " 2   Type 2      414 non-null    object\n",
      " 3   Total       800 non-null    int64 \n",
      " 4   HP          800 non-null    int64 \n",
      " 5   Attack      800 non-null    int64 \n",
      " 6   Defense     800 non-null    int64 \n",
      " 7   Sp. Atk     800 non-null    int64 \n",
      " 8   Sp. Def     800 non-null    int64 \n",
      " 9   Speed       800 non-null    int64 \n",
      " 10  Generation  800 non-null    int64 \n",
      " 11  Legendary   800 non-null    bool  \n",
      "dtypes: bool(1), int64(8), object(3)\n",
      "memory usage: 75.8+ KB\n"
     ]
    }
   ],
   "source": [
    "pokemon.info()"
   ]
  },
  {
   "cell_type": "code",
   "execution_count": 4,
   "id": "72ceccef",
   "metadata": {
    "scrolled": true
   },
   "outputs": [
    {
     "data": {
      "text/html": [
       "<div>\n",
       "<style scoped>\n",
       "    .dataframe tbody tr th:only-of-type {\n",
       "        vertical-align: middle;\n",
       "    }\n",
       "\n",
       "    .dataframe tbody tr th {\n",
       "        vertical-align: top;\n",
       "    }\n",
       "\n",
       "    .dataframe thead th {\n",
       "        text-align: right;\n",
       "    }\n",
       "</style>\n",
       "<table border=\"1\" class=\"dataframe\">\n",
       "  <thead>\n",
       "    <tr style=\"text-align: right;\">\n",
       "      <th></th>\n",
       "      <th>Name</th>\n",
       "      <th>Type 1</th>\n",
       "      <th>Type 2</th>\n",
       "      <th>Total</th>\n",
       "      <th>HP</th>\n",
       "      <th>Attack</th>\n",
       "      <th>Defense</th>\n",
       "      <th>Sp. Atk</th>\n",
       "      <th>Sp. Def</th>\n",
       "      <th>Speed</th>\n",
       "      <th>Generation</th>\n",
       "      <th>Legendary</th>\n",
       "    </tr>\n",
       "    <tr>\n",
       "      <th>#</th>\n",
       "      <th></th>\n",
       "      <th></th>\n",
       "      <th></th>\n",
       "      <th></th>\n",
       "      <th></th>\n",
       "      <th></th>\n",
       "      <th></th>\n",
       "      <th></th>\n",
       "      <th></th>\n",
       "      <th></th>\n",
       "      <th></th>\n",
       "      <th></th>\n",
       "    </tr>\n",
       "  </thead>\n",
       "  <tbody>\n",
       "    <tr>\n",
       "      <th>1</th>\n",
       "      <td>Bulbasaur</td>\n",
       "      <td>Grass</td>\n",
       "      <td>Poison</td>\n",
       "      <td>318</td>\n",
       "      <td>45</td>\n",
       "      <td>49</td>\n",
       "      <td>49</td>\n",
       "      <td>65</td>\n",
       "      <td>65</td>\n",
       "      <td>45</td>\n",
       "      <td>1</td>\n",
       "      <td>False</td>\n",
       "    </tr>\n",
       "    <tr>\n",
       "      <th>2</th>\n",
       "      <td>Ivysaur</td>\n",
       "      <td>Grass</td>\n",
       "      <td>Poison</td>\n",
       "      <td>405</td>\n",
       "      <td>60</td>\n",
       "      <td>62</td>\n",
       "      <td>63</td>\n",
       "      <td>80</td>\n",
       "      <td>80</td>\n",
       "      <td>60</td>\n",
       "      <td>1</td>\n",
       "      <td>False</td>\n",
       "    </tr>\n",
       "    <tr>\n",
       "      <th>3</th>\n",
       "      <td>Venusaur</td>\n",
       "      <td>Grass</td>\n",
       "      <td>Poison</td>\n",
       "      <td>525</td>\n",
       "      <td>80</td>\n",
       "      <td>82</td>\n",
       "      <td>83</td>\n",
       "      <td>100</td>\n",
       "      <td>100</td>\n",
       "      <td>80</td>\n",
       "      <td>1</td>\n",
       "      <td>False</td>\n",
       "    </tr>\n",
       "    <tr>\n",
       "      <th>3</th>\n",
       "      <td>VenusaurMega Venusaur</td>\n",
       "      <td>Grass</td>\n",
       "      <td>Poison</td>\n",
       "      <td>625</td>\n",
       "      <td>80</td>\n",
       "      <td>100</td>\n",
       "      <td>123</td>\n",
       "      <td>122</td>\n",
       "      <td>120</td>\n",
       "      <td>80</td>\n",
       "      <td>1</td>\n",
       "      <td>False</td>\n",
       "    </tr>\n",
       "    <tr>\n",
       "      <th>4</th>\n",
       "      <td>Charmander</td>\n",
       "      <td>Fire</td>\n",
       "      <td>NaN</td>\n",
       "      <td>309</td>\n",
       "      <td>39</td>\n",
       "      <td>52</td>\n",
       "      <td>43</td>\n",
       "      <td>60</td>\n",
       "      <td>50</td>\n",
       "      <td>65</td>\n",
       "      <td>1</td>\n",
       "      <td>False</td>\n",
       "    </tr>\n",
       "  </tbody>\n",
       "</table>\n",
       "</div>"
      ],
      "text/plain": [
       "                    Name Type 1  Type 2  Total  HP  Attack  Defense  Sp. Atk  \\\n",
       "#                                                                              \n",
       "1              Bulbasaur  Grass  Poison    318  45      49       49       65   \n",
       "2                Ivysaur  Grass  Poison    405  60      62       63       80   \n",
       "3               Venusaur  Grass  Poison    525  80      82       83      100   \n",
       "3  VenusaurMega Venusaur  Grass  Poison    625  80     100      123      122   \n",
       "4             Charmander   Fire     NaN    309  39      52       43       60   \n",
       "\n",
       "   Sp. Def  Speed  Generation  Legendary  \n",
       "#                                         \n",
       "1       65     45           1      False  \n",
       "2       80     60           1      False  \n",
       "3      100     80           1      False  \n",
       "3      120     80           1      False  \n",
       "4       50     65           1      False  "
      ]
     },
     "execution_count": 4,
     "metadata": {},
     "output_type": "execute_result"
    }
   ],
   "source": [
    "pokemon.head()"
   ]
  },
  {
   "cell_type": "code",
   "execution_count": 5,
   "id": "8cd245b3",
   "metadata": {
    "scrolled": false
   },
   "outputs": [
    {
     "data": {
      "text/html": [
       "<div>\n",
       "<style scoped>\n",
       "    .dataframe tbody tr th:only-of-type {\n",
       "        vertical-align: middle;\n",
       "    }\n",
       "\n",
       "    .dataframe tbody tr th {\n",
       "        vertical-align: top;\n",
       "    }\n",
       "\n",
       "    .dataframe thead th {\n",
       "        text-align: right;\n",
       "    }\n",
       "</style>\n",
       "<table border=\"1\" class=\"dataframe\">\n",
       "  <thead>\n",
       "    <tr style=\"text-align: right;\">\n",
       "      <th></th>\n",
       "      <th>Total</th>\n",
       "      <th>HP</th>\n",
       "      <th>Attack</th>\n",
       "      <th>Defense</th>\n",
       "      <th>Sp. Atk</th>\n",
       "      <th>Sp. Def</th>\n",
       "      <th>Speed</th>\n",
       "      <th>Generation</th>\n",
       "    </tr>\n",
       "  </thead>\n",
       "  <tbody>\n",
       "    <tr>\n",
       "      <th>count</th>\n",
       "      <td>800.00000</td>\n",
       "      <td>800.000000</td>\n",
       "      <td>800.000000</td>\n",
       "      <td>800.000000</td>\n",
       "      <td>800.000000</td>\n",
       "      <td>800.000000</td>\n",
       "      <td>800.000000</td>\n",
       "      <td>800.00000</td>\n",
       "    </tr>\n",
       "    <tr>\n",
       "      <th>mean</th>\n",
       "      <td>435.10250</td>\n",
       "      <td>69.258750</td>\n",
       "      <td>79.001250</td>\n",
       "      <td>73.842500</td>\n",
       "      <td>72.820000</td>\n",
       "      <td>71.902500</td>\n",
       "      <td>68.277500</td>\n",
       "      <td>3.32375</td>\n",
       "    </tr>\n",
       "    <tr>\n",
       "      <th>std</th>\n",
       "      <td>119.96304</td>\n",
       "      <td>25.534669</td>\n",
       "      <td>32.457366</td>\n",
       "      <td>31.183501</td>\n",
       "      <td>32.722294</td>\n",
       "      <td>27.828916</td>\n",
       "      <td>29.060474</td>\n",
       "      <td>1.66129</td>\n",
       "    </tr>\n",
       "    <tr>\n",
       "      <th>min</th>\n",
       "      <td>180.00000</td>\n",
       "      <td>1.000000</td>\n",
       "      <td>5.000000</td>\n",
       "      <td>5.000000</td>\n",
       "      <td>10.000000</td>\n",
       "      <td>20.000000</td>\n",
       "      <td>5.000000</td>\n",
       "      <td>1.00000</td>\n",
       "    </tr>\n",
       "    <tr>\n",
       "      <th>25%</th>\n",
       "      <td>330.00000</td>\n",
       "      <td>50.000000</td>\n",
       "      <td>55.000000</td>\n",
       "      <td>50.000000</td>\n",
       "      <td>49.750000</td>\n",
       "      <td>50.000000</td>\n",
       "      <td>45.000000</td>\n",
       "      <td>2.00000</td>\n",
       "    </tr>\n",
       "    <tr>\n",
       "      <th>50%</th>\n",
       "      <td>450.00000</td>\n",
       "      <td>65.000000</td>\n",
       "      <td>75.000000</td>\n",
       "      <td>70.000000</td>\n",
       "      <td>65.000000</td>\n",
       "      <td>70.000000</td>\n",
       "      <td>65.000000</td>\n",
       "      <td>3.00000</td>\n",
       "    </tr>\n",
       "    <tr>\n",
       "      <th>75%</th>\n",
       "      <td>515.00000</td>\n",
       "      <td>80.000000</td>\n",
       "      <td>100.000000</td>\n",
       "      <td>90.000000</td>\n",
       "      <td>95.000000</td>\n",
       "      <td>90.000000</td>\n",
       "      <td>90.000000</td>\n",
       "      <td>5.00000</td>\n",
       "    </tr>\n",
       "    <tr>\n",
       "      <th>max</th>\n",
       "      <td>780.00000</td>\n",
       "      <td>255.000000</td>\n",
       "      <td>190.000000</td>\n",
       "      <td>230.000000</td>\n",
       "      <td>194.000000</td>\n",
       "      <td>230.000000</td>\n",
       "      <td>180.000000</td>\n",
       "      <td>6.00000</td>\n",
       "    </tr>\n",
       "  </tbody>\n",
       "</table>\n",
       "</div>"
      ],
      "text/plain": [
       "           Total          HP      Attack     Defense     Sp. Atk     Sp. Def  \\\n",
       "count  800.00000  800.000000  800.000000  800.000000  800.000000  800.000000   \n",
       "mean   435.10250   69.258750   79.001250   73.842500   72.820000   71.902500   \n",
       "std    119.96304   25.534669   32.457366   31.183501   32.722294   27.828916   \n",
       "min    180.00000    1.000000    5.000000    5.000000   10.000000   20.000000   \n",
       "25%    330.00000   50.000000   55.000000   50.000000   49.750000   50.000000   \n",
       "50%    450.00000   65.000000   75.000000   70.000000   65.000000   70.000000   \n",
       "75%    515.00000   80.000000  100.000000   90.000000   95.000000   90.000000   \n",
       "max    780.00000  255.000000  190.000000  230.000000  194.000000  230.000000   \n",
       "\n",
       "            Speed  Generation  \n",
       "count  800.000000   800.00000  \n",
       "mean    68.277500     3.32375  \n",
       "std     29.060474     1.66129  \n",
       "min      5.000000     1.00000  \n",
       "25%     45.000000     2.00000  \n",
       "50%     65.000000     3.00000  \n",
       "75%     90.000000     5.00000  \n",
       "max    180.000000     6.00000  "
      ]
     },
     "execution_count": 5,
     "metadata": {},
     "output_type": "execute_result"
    }
   ],
   "source": [
    "pokemon.describe()"
   ]
  },
  {
   "cell_type": "markdown",
   "id": "8402f10f",
   "metadata": {},
   "source": [
    "# Skewed data "
   ]
  },
  {
   "cell_type": "code",
   "execution_count": 6,
   "id": "afb15fbb",
   "metadata": {
    "scrolled": true
   },
   "outputs": [
    {
     "name": "stdout",
     "output_type": "stream",
     "text": [
      "There are 65 legendary Pokemon in the datatset.\n",
      "This is 8.125 % of the dataset.\n"
     ]
    }
   ],
   "source": [
    "print(\"There are\", sum(pokemon[\"Legendary\"]== True), \"legendary Pokemon in the datatset.\")\n",
    "print(\"This is\", (sum(pokemon[\"Legendary\"]== True)/pokemon.shape[0])*100, \"% of the dataset.\")"
   ]
  },
  {
   "cell_type": "code",
   "execution_count": 7,
   "id": "54f20d1f",
   "metadata": {
    "scrolled": false
   },
   "outputs": [
    {
     "data": {
      "text/html": [
       "<div>\n",
       "<style scoped>\n",
       "    .dataframe tbody tr th:only-of-type {\n",
       "        vertical-align: middle;\n",
       "    }\n",
       "\n",
       "    .dataframe tbody tr th {\n",
       "        vertical-align: top;\n",
       "    }\n",
       "\n",
       "    .dataframe thead th {\n",
       "        text-align: right;\n",
       "    }\n",
       "</style>\n",
       "<table border=\"1\" class=\"dataframe\">\n",
       "  <thead>\n",
       "    <tr style=\"text-align: right;\">\n",
       "      <th></th>\n",
       "      <th>Attack</th>\n",
       "      <th>Defense</th>\n",
       "      <th>HP</th>\n",
       "      <th>Legendary</th>\n",
       "      <th>Sp. Atk</th>\n",
       "      <th>Sp. Def</th>\n",
       "      <th>Speed</th>\n",
       "      <th>Total</th>\n",
       "    </tr>\n",
       "    <tr>\n",
       "      <th>Generation</th>\n",
       "      <th></th>\n",
       "      <th></th>\n",
       "      <th></th>\n",
       "      <th></th>\n",
       "      <th></th>\n",
       "      <th></th>\n",
       "      <th></th>\n",
       "      <th></th>\n",
       "    </tr>\n",
       "  </thead>\n",
       "  <tbody>\n",
       "    <tr>\n",
       "      <th>1</th>\n",
       "      <td>76.638554</td>\n",
       "      <td>70.861446</td>\n",
       "      <td>65.819277</td>\n",
       "      <td>0.036145</td>\n",
       "      <td>71.819277</td>\n",
       "      <td>69.090361</td>\n",
       "      <td>72.584337</td>\n",
       "      <td>426.813253</td>\n",
       "    </tr>\n",
       "    <tr>\n",
       "      <th>2</th>\n",
       "      <td>72.028302</td>\n",
       "      <td>73.386792</td>\n",
       "      <td>71.207547</td>\n",
       "      <td>0.047170</td>\n",
       "      <td>65.943396</td>\n",
       "      <td>73.905660</td>\n",
       "      <td>61.811321</td>\n",
       "      <td>418.283019</td>\n",
       "    </tr>\n",
       "    <tr>\n",
       "      <th>3</th>\n",
       "      <td>81.625000</td>\n",
       "      <td>74.100000</td>\n",
       "      <td>66.543750</td>\n",
       "      <td>0.112500</td>\n",
       "      <td>75.806250</td>\n",
       "      <td>71.225000</td>\n",
       "      <td>66.925000</td>\n",
       "      <td>436.225000</td>\n",
       "    </tr>\n",
       "    <tr>\n",
       "      <th>4</th>\n",
       "      <td>82.867769</td>\n",
       "      <td>78.132231</td>\n",
       "      <td>73.082645</td>\n",
       "      <td>0.107438</td>\n",
       "      <td>76.404959</td>\n",
       "      <td>77.190083</td>\n",
       "      <td>71.338843</td>\n",
       "      <td>459.016529</td>\n",
       "    </tr>\n",
       "    <tr>\n",
       "      <th>5</th>\n",
       "      <td>82.066667</td>\n",
       "      <td>72.327273</td>\n",
       "      <td>71.787879</td>\n",
       "      <td>0.090909</td>\n",
       "      <td>71.987879</td>\n",
       "      <td>68.739394</td>\n",
       "      <td>68.078788</td>\n",
       "      <td>434.987879</td>\n",
       "    </tr>\n",
       "    <tr>\n",
       "      <th>6</th>\n",
       "      <td>75.804878</td>\n",
       "      <td>76.682927</td>\n",
       "      <td>68.268293</td>\n",
       "      <td>0.097561</td>\n",
       "      <td>74.292683</td>\n",
       "      <td>74.890244</td>\n",
       "      <td>66.439024</td>\n",
       "      <td>436.378049</td>\n",
       "    </tr>\n",
       "  </tbody>\n",
       "</table>\n",
       "</div>"
      ],
      "text/plain": [
       "               Attack    Defense         HP  Legendary    Sp. Atk    Sp. Def  \\\n",
       "Generation                                                                     \n",
       "1           76.638554  70.861446  65.819277   0.036145  71.819277  69.090361   \n",
       "2           72.028302  73.386792  71.207547   0.047170  65.943396  73.905660   \n",
       "3           81.625000  74.100000  66.543750   0.112500  75.806250  71.225000   \n",
       "4           82.867769  78.132231  73.082645   0.107438  76.404959  77.190083   \n",
       "5           82.066667  72.327273  71.787879   0.090909  71.987879  68.739394   \n",
       "6           75.804878  76.682927  68.268293   0.097561  74.292683  74.890244   \n",
       "\n",
       "                Speed       Total  \n",
       "Generation                         \n",
       "1           72.584337  426.813253  \n",
       "2           61.811321  418.283019  \n",
       "3           66.925000  436.225000  \n",
       "4           71.338843  459.016529  \n",
       "5           68.078788  434.987879  \n",
       "6           66.439024  436.378049  "
      ]
     },
     "execution_count": 7,
     "metadata": {},
     "output_type": "execute_result"
    }
   ],
   "source": [
    "pd.pivot_table(pokemon,index=[\"Generation\"])"
   ]
  },
  {
   "cell_type": "code",
   "execution_count": 8,
   "id": "be176ddc",
   "metadata": {
    "scrolled": true
   },
   "outputs": [
    {
     "data": {
      "text/plain": [
       "Type 1\n",
       "Flying     0.500000\n",
       "Dragon     0.375000\n",
       "Psychic    0.245614\n",
       "Steel      0.148148\n",
       "Ground     0.125000\n",
       "Name: Legendary, dtype: float64"
      ]
     },
     "execution_count": 8,
     "metadata": {},
     "output_type": "execute_result"
    }
   ],
   "source": [
    "pivot = pd.pivot_table(pokemon,index=[\"Type 1\"],)\n",
    "pivot[\"Legendary\"].sort_values(ascending = False).head()"
   ]
  },
  {
   "cell_type": "markdown",
   "id": "0d1e261d",
   "metadata": {},
   "source": [
    "# Modelling the data"
   ]
  },
  {
   "cell_type": "markdown",
   "id": "c9e24eeb",
   "metadata": {},
   "source": [
    "## Overall model"
   ]
  },
  {
   "cell_type": "markdown",
   "id": "a62efffe",
   "metadata": {},
   "source": [
    "### Catogirical string variables"
   ]
  },
  {
   "cell_type": "code",
   "execution_count": 9,
   "id": "fd052d08",
   "metadata": {},
   "outputs": [
    {
     "name": "stdout",
     "output_type": "stream",
     "text": [
      "number of different type 1s -  18\n"
     ]
    }
   ],
   "source": [
    "print(\"number of different type 1s - \", pokemon[\"Type 1\"].nunique())"
   ]
  },
  {
   "cell_type": "code",
   "execution_count": 10,
   "id": "950a1321",
   "metadata": {},
   "outputs": [
    {
     "name": "stdout",
     "output_type": "stream",
     "text": [
      "number of different type 2s - 18\n"
     ]
    }
   ],
   "source": [
    "print(\"number of different type 2s -\", pokemon[\"Type 2\"].nunique())"
   ]
  },
  {
   "cell_type": "code",
   "execution_count": 11,
   "id": "8dc809df",
   "metadata": {},
   "outputs": [],
   "source": [
    "# import library to encourd type data\n",
    "from sklearn.preprocessing import LabelEncoder"
   ]
  },
  {
   "cell_type": "code",
   "execution_count": 12,
   "id": "e451518c",
   "metadata": {},
   "outputs": [],
   "source": [
    "# encord type variables\n",
    "le = LabelEncoder()\n",
    "pokemon['Type 1 Code'] = le.fit_transform(pokemon['Type 1'])\n",
    "pokemon['Type 2 Code'] = le.fit_transform(pokemon['Type 2'])\n",
    "pokemon = pokemon.drop([\"Type 1\", \"Type 2\"], axis =1)"
   ]
  },
  {
   "cell_type": "code",
   "execution_count": 13,
   "id": "85f6c445",
   "metadata": {},
   "outputs": [],
   "source": [
    "# drop name variable as it cannot be used in the model\n",
    "pokemon.drop('Name',axis=1,inplace=True)"
   ]
  },
  {
   "cell_type": "code",
   "execution_count": 14,
   "id": "5d91f530",
   "metadata": {
    "scrolled": true
   },
   "outputs": [
    {
     "data": {
      "text/html": [
       "<div>\n",
       "<style scoped>\n",
       "    .dataframe tbody tr th:only-of-type {\n",
       "        vertical-align: middle;\n",
       "    }\n",
       "\n",
       "    .dataframe tbody tr th {\n",
       "        vertical-align: top;\n",
       "    }\n",
       "\n",
       "    .dataframe thead th {\n",
       "        text-align: right;\n",
       "    }\n",
       "</style>\n",
       "<table border=\"1\" class=\"dataframe\">\n",
       "  <thead>\n",
       "    <tr style=\"text-align: right;\">\n",
       "      <th></th>\n",
       "      <th>Total</th>\n",
       "      <th>HP</th>\n",
       "      <th>Attack</th>\n",
       "      <th>Defense</th>\n",
       "      <th>Sp. Atk</th>\n",
       "      <th>Sp. Def</th>\n",
       "      <th>Speed</th>\n",
       "      <th>Generation</th>\n",
       "      <th>Legendary</th>\n",
       "      <th>Type 1 Code</th>\n",
       "      <th>Type 2 Code</th>\n",
       "    </tr>\n",
       "    <tr>\n",
       "      <th>#</th>\n",
       "      <th></th>\n",
       "      <th></th>\n",
       "      <th></th>\n",
       "      <th></th>\n",
       "      <th></th>\n",
       "      <th></th>\n",
       "      <th></th>\n",
       "      <th></th>\n",
       "      <th></th>\n",
       "      <th></th>\n",
       "      <th></th>\n",
       "    </tr>\n",
       "  </thead>\n",
       "  <tbody>\n",
       "    <tr>\n",
       "      <th>1</th>\n",
       "      <td>318</td>\n",
       "      <td>45</td>\n",
       "      <td>49</td>\n",
       "      <td>49</td>\n",
       "      <td>65</td>\n",
       "      <td>65</td>\n",
       "      <td>45</td>\n",
       "      <td>1</td>\n",
       "      <td>False</td>\n",
       "      <td>9</td>\n",
       "      <td>13</td>\n",
       "    </tr>\n",
       "    <tr>\n",
       "      <th>2</th>\n",
       "      <td>405</td>\n",
       "      <td>60</td>\n",
       "      <td>62</td>\n",
       "      <td>63</td>\n",
       "      <td>80</td>\n",
       "      <td>80</td>\n",
       "      <td>60</td>\n",
       "      <td>1</td>\n",
       "      <td>False</td>\n",
       "      <td>9</td>\n",
       "      <td>13</td>\n",
       "    </tr>\n",
       "    <tr>\n",
       "      <th>3</th>\n",
       "      <td>525</td>\n",
       "      <td>80</td>\n",
       "      <td>82</td>\n",
       "      <td>83</td>\n",
       "      <td>100</td>\n",
       "      <td>100</td>\n",
       "      <td>80</td>\n",
       "      <td>1</td>\n",
       "      <td>False</td>\n",
       "      <td>9</td>\n",
       "      <td>13</td>\n",
       "    </tr>\n",
       "    <tr>\n",
       "      <th>3</th>\n",
       "      <td>625</td>\n",
       "      <td>80</td>\n",
       "      <td>100</td>\n",
       "      <td>123</td>\n",
       "      <td>122</td>\n",
       "      <td>120</td>\n",
       "      <td>80</td>\n",
       "      <td>1</td>\n",
       "      <td>False</td>\n",
       "      <td>9</td>\n",
       "      <td>13</td>\n",
       "    </tr>\n",
       "    <tr>\n",
       "      <th>4</th>\n",
       "      <td>309</td>\n",
       "      <td>39</td>\n",
       "      <td>52</td>\n",
       "      <td>43</td>\n",
       "      <td>60</td>\n",
       "      <td>50</td>\n",
       "      <td>65</td>\n",
       "      <td>1</td>\n",
       "      <td>False</td>\n",
       "      <td>6</td>\n",
       "      <td>18</td>\n",
       "    </tr>\n",
       "  </tbody>\n",
       "</table>\n",
       "</div>"
      ],
      "text/plain": [
       "   Total  HP  Attack  Defense  Sp. Atk  Sp. Def  Speed  Generation  Legendary  \\\n",
       "#                                                                               \n",
       "1    318  45      49       49       65       65     45           1      False   \n",
       "2    405  60      62       63       80       80     60           1      False   \n",
       "3    525  80      82       83      100      100     80           1      False   \n",
       "3    625  80     100      123      122      120     80           1      False   \n",
       "4    309  39      52       43       60       50     65           1      False   \n",
       "\n",
       "   Type 1 Code  Type 2 Code  \n",
       "#                            \n",
       "1            9           13  \n",
       "2            9           13  \n",
       "3            9           13  \n",
       "3            9           13  \n",
       "4            6           18  "
      ]
     },
     "execution_count": 14,
     "metadata": {},
     "output_type": "execute_result"
    }
   ],
   "source": [
    "#revised dataset\n",
    "pokemon.head()"
   ]
  },
  {
   "cell_type": "markdown",
   "id": "cd0310c3",
   "metadata": {},
   "source": [
    "### Creating the model"
   ]
  },
  {
   "cell_type": "code",
   "execution_count": 15,
   "id": "97af32c9",
   "metadata": {},
   "outputs": [],
   "source": [
    "# establish variable\n",
    "X = pokemon.drop('Legendary',axis=1)\n",
    "y = pokemon['Legendary']"
   ]
  },
  {
   "cell_type": "code",
   "execution_count": 16,
   "id": "29dbd4d8",
   "metadata": {},
   "outputs": [],
   "source": [
    "#split dataset \n",
    "X_train, X_test, y_train, y_test = train_test_split(X, y, test_size=0.30, random_state = 101)"
   ]
  },
  {
   "cell_type": "code",
   "execution_count": 17,
   "id": "e3b92618",
   "metadata": {},
   "outputs": [
    {
     "data": {
      "text/plain": [
       "RandomForestClassifier()"
      ]
     },
     "execution_count": 17,
     "metadata": {},
     "output_type": "execute_result"
    }
   ],
   "source": [
    "# create model\n",
    "FullRFC = RandomForestClassifier()\n",
    "FullRFC.fit(X_train, y_train)"
   ]
  },
  {
   "cell_type": "code",
   "execution_count": 18,
   "id": "e8b155bb",
   "metadata": {},
   "outputs": [],
   "source": [
    "# predict outcomes\n",
    "FullRFC_pred = FullRFC.predict(X_test)"
   ]
  },
  {
   "cell_type": "code",
   "execution_count": 19,
   "id": "076794a9",
   "metadata": {
    "scrolled": false
   },
   "outputs": [
    {
     "name": "stdout",
     "output_type": "stream",
     "text": [
      "Confusion Matrix \n",
      " [[216   3]\n",
      " [  8  13]] \n",
      "\n",
      "Classification report\n",
      "               precision    recall  f1-score   support\n",
      "\n",
      "       False       0.96      0.99      0.98       219\n",
      "        True       0.81      0.62      0.70        21\n",
      "\n",
      "    accuracy                           0.95       240\n",
      "   macro avg       0.89      0.80      0.84       240\n",
      "weighted avg       0.95      0.95      0.95       240\n",
      "\n"
     ]
    }
   ],
   "source": [
    "# assess model using predicted data and actual data\n",
    "print(\"Confusion Matrix \\n\", confusion_matrix(y_test,FullRFC_pred), \"\\n\")\n",
    "print(\"Classification report\\n\", classification_report(y_test,FullRFC_pred))"
   ]
  },
  {
   "cell_type": "markdown",
   "id": "06b3d700",
   "metadata": {},
   "source": [
    "## Model 1 - Stats only\n",
    "Variables: \n",
    "* HP\n",
    "* Attack\n",
    "* Defence\n",
    "* Sp. Atk\n",
    "* Sp. Def\n",
    "* Speed"
   ]
  },
  {
   "cell_type": "code",
   "execution_count": 20,
   "id": "02b37104",
   "metadata": {},
   "outputs": [],
   "source": [
    "# select cross sesction of data \n",
    "Stats = pokemon[[ \"Total\"]]"
   ]
  },
  {
   "cell_type": "code",
   "execution_count": 21,
   "id": "52488efe",
   "metadata": {},
   "outputs": [],
   "source": [
    "# establish variable\n",
    "X = Stats\n",
    "y = pokemon['Legendary']"
   ]
  },
  {
   "cell_type": "code",
   "execution_count": 22,
   "id": "e4136abb",
   "metadata": {},
   "outputs": [],
   "source": [
    "#split dataset \n",
    "X_train, X_test, y_train, y_test = train_test_split(X, y, test_size=0.30, random_state = 101)"
   ]
  },
  {
   "cell_type": "code",
   "execution_count": 23,
   "id": "47b74c34",
   "metadata": {},
   "outputs": [
    {
     "data": {
      "text/plain": [
       "RandomForestClassifier()"
      ]
     },
     "execution_count": 23,
     "metadata": {},
     "output_type": "execute_result"
    }
   ],
   "source": [
    "# create model\n",
    "StatsRFC = RandomForestClassifier()\n",
    "StatsRFC.fit(X_train, y_train)"
   ]
  },
  {
   "cell_type": "code",
   "execution_count": 24,
   "id": "1451edb6",
   "metadata": {},
   "outputs": [],
   "source": [
    "# predict outcomes\n",
    "StatsRFC_pred = StatsRFC.predict(X_test)"
   ]
  },
  {
   "cell_type": "code",
   "execution_count": 25,
   "id": "5c4bf59e",
   "metadata": {
    "scrolled": true
   },
   "outputs": [
    {
     "name": "stdout",
     "output_type": "stream",
     "text": [
      "Confusion Matrix \n",
      " [[215   4]\n",
      " [  8  13]] \n",
      "\n",
      "Classification report\n",
      "               precision    recall  f1-score   support\n",
      "\n",
      "       False       0.96      0.98      0.97       219\n",
      "        True       0.76      0.62      0.68        21\n",
      "\n",
      "    accuracy                           0.95       240\n",
      "   macro avg       0.86      0.80      0.83       240\n",
      "weighted avg       0.95      0.95      0.95       240\n",
      "\n"
     ]
    }
   ],
   "source": [
    "# assess model using predicted data and actual data\n",
    "print(\"Confusion Matrix \\n\", confusion_matrix(y_test,StatsRFC_pred), \"\\n\")\n",
    "print(\"Classification report\\n\", classification_report(y_test,StatsRFC_pred))\n"
   ]
  },
  {
   "cell_type": "markdown",
   "id": "507a60b8",
   "metadata": {},
   "source": [
    "# Model 2 - Combat data\n",
    "Variables:\n",
    "* Attack\n",
    "* Defence\n",
    "* HP"
   ]
  },
  {
   "cell_type": "code",
   "execution_count": 26,
   "id": "5a67ceb7",
   "metadata": {},
   "outputs": [],
   "source": [
    "# select cross sesction of data \n",
    "combat = pokemon[[\"Attack\",\"Defense\",\"HP\"]]"
   ]
  },
  {
   "cell_type": "code",
   "execution_count": 27,
   "id": "8c006070",
   "metadata": {},
   "outputs": [],
   "source": [
    "# establish variable\n",
    "X = combat\n",
    "y = pokemon['Legendary']"
   ]
  },
  {
   "cell_type": "code",
   "execution_count": 28,
   "id": "fad860ab",
   "metadata": {},
   "outputs": [],
   "source": [
    "#split dataset \n",
    "X_train, X_test, y_train, y_test = train_test_split(X, y, test_size=0.30, random_state = 101)"
   ]
  },
  {
   "cell_type": "code",
   "execution_count": 29,
   "id": "84eef379",
   "metadata": {},
   "outputs": [
    {
     "data": {
      "text/plain": [
       "RandomForestClassifier()"
      ]
     },
     "execution_count": 29,
     "metadata": {},
     "output_type": "execute_result"
    }
   ],
   "source": [
    "# create model\n",
    "CombatRFC = RandomForestClassifier()\n",
    "CombatRFC.fit(X_train, y_train)"
   ]
  },
  {
   "cell_type": "code",
   "execution_count": 30,
   "id": "830d8d5a",
   "metadata": {},
   "outputs": [],
   "source": [
    "# predict outcomes\n",
    "CombatRFC_pred = CombatRFC.predict(X_test)"
   ]
  },
  {
   "cell_type": "code",
   "execution_count": 31,
   "id": "e31b3f8b",
   "metadata": {},
   "outputs": [
    {
     "name": "stdout",
     "output_type": "stream",
     "text": [
      "Confusion Matrix \n",
      " [[214   5]\n",
      " [ 16   5]] \n",
      "\n",
      "Classification report\n",
      "               precision    recall  f1-score   support\n",
      "\n",
      "       False       0.93      0.98      0.95       219\n",
      "        True       0.50      0.24      0.32        21\n",
      "\n",
      "    accuracy                           0.91       240\n",
      "   macro avg       0.72      0.61      0.64       240\n",
      "weighted avg       0.89      0.91      0.90       240\n",
      "\n"
     ]
    }
   ],
   "source": [
    "# assess model using predicted data and actual data\n",
    "print(\"Confusion Matrix \\n\", confusion_matrix(y_test,CombatRFC_pred), \"\\n\")\n",
    "print(\"Classification report\\n\", classification_report(y_test,CombatRFC_pred))"
   ]
  },
  {
   "cell_type": "markdown",
   "id": "60944e22",
   "metadata": {},
   "source": [
    "# Model 3 stats + generation\n",
    "Variables:\n",
    "* Total\n",
    "* Generation"
   ]
  },
  {
   "cell_type": "code",
   "execution_count": 32,
   "id": "8c18f7e1",
   "metadata": {},
   "outputs": [],
   "source": [
    "# select cross sesction of data \n",
    "StatsG = pokemon[[ \"Total\",\"Generation\"]]"
   ]
  },
  {
   "cell_type": "code",
   "execution_count": 33,
   "id": "08153609",
   "metadata": {},
   "outputs": [],
   "source": [
    "# establish variable\n",
    "X = StatsG\n",
    "y = pokemon['Legendary']"
   ]
  },
  {
   "cell_type": "code",
   "execution_count": 34,
   "id": "19376bef",
   "metadata": {},
   "outputs": [],
   "source": [
    "#split dataset \n",
    "X_train, X_test, y_train, y_test = train_test_split(X, y, test_size=0.30, random_state = 101)"
   ]
  },
  {
   "cell_type": "code",
   "execution_count": 35,
   "id": "3baea202",
   "metadata": {},
   "outputs": [
    {
     "data": {
      "text/plain": [
       "RandomForestClassifier()"
      ]
     },
     "execution_count": 35,
     "metadata": {},
     "output_type": "execute_result"
    }
   ],
   "source": [
    "# create model\n",
    "StatsGRFC = RandomForestClassifier()\n",
    "StatsGRFC.fit(X_train, y_train)"
   ]
  },
  {
   "cell_type": "code",
   "execution_count": 36,
   "id": "cd000fbd",
   "metadata": {},
   "outputs": [],
   "source": [
    "# predict outcomes\n",
    "StatsGRFC_pred = StatsGRFC.predict(X_test)"
   ]
  },
  {
   "cell_type": "code",
   "execution_count": 37,
   "id": "bffbb28a",
   "metadata": {},
   "outputs": [
    {
     "name": "stdout",
     "output_type": "stream",
     "text": [
      "Confusion Matrix \n",
      " [[211   8]\n",
      " [  2  19]] \n",
      "\n",
      "Classification report\n",
      "               precision    recall  f1-score   support\n",
      "\n",
      "       False       0.99      0.96      0.98       219\n",
      "        True       0.70      0.90      0.79        21\n",
      "\n",
      "    accuracy                           0.96       240\n",
      "   macro avg       0.85      0.93      0.88       240\n",
      "weighted avg       0.97      0.96      0.96       240\n",
      "\n"
     ]
    }
   ],
   "source": [
    "# assess model using predicted data and actual data\n",
    "print(\"Confusion Matrix \\n\", confusion_matrix(y_test,StatsGRFC_pred), \"\\n\")\n",
    "print(\"Classification report\\n\", classification_report(y_test,StatsGRFC_pred))"
   ]
  },
  {
   "cell_type": "markdown",
   "id": "1c081794",
   "metadata": {},
   "source": [
    "# Model 4 - Key stats + generation\n",
    "Variables: \n",
    "* HP\n",
    "* Attack\n",
    "* Defence\n",
    "* Speed\n",
    "* Generation\n"
   ]
  },
  {
   "cell_type": "code",
   "execution_count": 38,
   "id": "b925ea3e",
   "metadata": {},
   "outputs": [
    {
     "name": "stdout",
     "output_type": "stream",
     "text": [
      "Total includes other variables not included in the dataset.\n"
     ]
    }
   ],
   "source": [
    "pokemon[\"check\"] = pokemon[['Sp. Atk', 'Sp. Def']].sum(axis = 1)\n",
    "\n",
    "\n",
    "if sum(pokemon[pokemon[\"check\"]!=pokemon[\"Speed\"]].any()) == 0: \n",
    "    print(\"Total equals sum of all other stats.\")\n",
    "else:\n",
    "    print(\"Total includes other variables not included in the dataset.\")\n",
    "\n",
    "pokemon.drop(\"check\", axis = 1, inplace = True)"
   ]
  },
  {
   "cell_type": "code",
   "execution_count": 39,
   "id": "3a6818d8",
   "metadata": {},
   "outputs": [],
   "source": [
    "# select cross sesction of data \n",
    "keydataG = pokemon.drop(['Total','Sp. Atk', 'Type 2 Code', 'Sp. Def',\"Type 1 Code\"], axis = 1)"
   ]
  },
  {
   "cell_type": "code",
   "execution_count": 40,
   "id": "05ea37ee",
   "metadata": {},
   "outputs": [],
   "source": [
    "# establish variable\n",
    "X = keydataG.drop('Legendary',axis=1)\n",
    "y = keydataG['Legendary']"
   ]
  },
  {
   "cell_type": "code",
   "execution_count": 41,
   "id": "f8bc99c6",
   "metadata": {},
   "outputs": [],
   "source": [
    "#split dataset \n",
    "X_train, X_test, y_train, y_test = train_test_split(X, y, test_size=0.30, random_state = 101)"
   ]
  },
  {
   "cell_type": "code",
   "execution_count": 42,
   "id": "0d80e92b",
   "metadata": {},
   "outputs": [
    {
     "data": {
      "text/plain": [
       "RandomForestClassifier()"
      ]
     },
     "execution_count": 42,
     "metadata": {},
     "output_type": "execute_result"
    }
   ],
   "source": [
    "# create model\n",
    "KeydataGRFC = RandomForestClassifier()\n",
    "KeydataGRFC.fit(X_train, y_train)"
   ]
  },
  {
   "cell_type": "code",
   "execution_count": 43,
   "id": "bc0f17cc",
   "metadata": {},
   "outputs": [],
   "source": [
    "# predict outcomes\n",
    "KeydataGRFC_pred = KeydataGRFC.predict(X_test)"
   ]
  },
  {
   "cell_type": "code",
   "execution_count": 44,
   "id": "085f7f35",
   "metadata": {
    "scrolled": false
   },
   "outputs": [
    {
     "name": "stdout",
     "output_type": "stream",
     "text": [
      "Confusion Matrix \n",
      " [[216   3]\n",
      " [ 12   9]] \n",
      "\n",
      "Classification report\n",
      "               precision    recall  f1-score   support\n",
      "\n",
      "       False       0.95      0.99      0.97       219\n",
      "        True       0.75      0.43      0.55        21\n",
      "\n",
      "    accuracy                           0.94       240\n",
      "   macro avg       0.85      0.71      0.76       240\n",
      "weighted avg       0.93      0.94      0.93       240\n",
      "\n"
     ]
    }
   ],
   "source": [
    "# assess model using predicted data and actual data\n",
    "print(\"Confusion Matrix \\n\", confusion_matrix(y_test,KeydataGRFC_pred), \"\\n\")\n",
    "print(\"Classification report\\n\", classification_report(y_test,KeydataGRFC_pred))\n"
   ]
  },
  {
   "cell_type": "markdown",
   "id": "a6415090",
   "metadata": {},
   "source": [
    "# Model 5\n",
    "Variables:\n",
    "* Type 1 \n",
    "* Type 2 \n",
    "* HP\n",
    "* Attack\n",
    "* Defence \n",
    "* Speed\n"
   ]
  },
  {
   "cell_type": "code",
   "execution_count": 45,
   "id": "04e2df68",
   "metadata": {},
   "outputs": [],
   "source": [
    "# select cross sesction of data \n",
    "keydata = pokemon.drop(['Sp. Atk', 'Sp. Def',\"Generation\"], axis = 1)"
   ]
  },
  {
   "cell_type": "code",
   "execution_count": 46,
   "id": "531cc89b",
   "metadata": {},
   "outputs": [],
   "source": [
    "# establish variable\n",
    "X = keydata.drop('Legendary',axis=1)\n",
    "y = keydata['Legendary']"
   ]
  },
  {
   "cell_type": "code",
   "execution_count": 47,
   "id": "9fd95079",
   "metadata": {},
   "outputs": [],
   "source": [
    "#split dataset \n",
    "X_train, X_test, y_train, y_test = train_test_split(X, y, test_size=0.30, random_state = 101)"
   ]
  },
  {
   "cell_type": "code",
   "execution_count": 48,
   "id": "519fb0d8",
   "metadata": {},
   "outputs": [
    {
     "data": {
      "text/plain": [
       "RandomForestClassifier()"
      ]
     },
     "execution_count": 48,
     "metadata": {},
     "output_type": "execute_result"
    }
   ],
   "source": [
    "# create model\n",
    "KeydataRFC = RandomForestClassifier()\n",
    "KeydataRFC.fit(X_train, y_train)"
   ]
  },
  {
   "cell_type": "code",
   "execution_count": 49,
   "id": "bcf41f9f",
   "metadata": {},
   "outputs": [],
   "source": [
    "# predict outcomes\n",
    "KeydataRFC_pred = KeydataRFC.predict(X_test)"
   ]
  },
  {
   "cell_type": "code",
   "execution_count": 50,
   "id": "eb81b203",
   "metadata": {},
   "outputs": [
    {
     "name": "stdout",
     "output_type": "stream",
     "text": [
      "Confusion Matrix \n",
      " [[214   5]\n",
      " [  7  14]] \n",
      "\n",
      "Classification report\n",
      "               precision    recall  f1-score   support\n",
      "\n",
      "       False       0.97      0.98      0.97       219\n",
      "        True       0.74      0.67      0.70        21\n",
      "\n",
      "    accuracy                           0.95       240\n",
      "   macro avg       0.85      0.82      0.84       240\n",
      "weighted avg       0.95      0.95      0.95       240\n",
      "\n"
     ]
    }
   ],
   "source": [
    "# assess model using predicted data and actual data\n",
    "print(\"Confusion Matrix \\n\", confusion_matrix(y_test,KeydataRFC_pred), \"\\n\")\n",
    "print(\"Classification report\\n\", classification_report(y_test,KeydataRFC_pred))\n"
   ]
  },
  {
   "cell_type": "markdown",
   "id": "75d19519",
   "metadata": {},
   "source": [
    "# Models and data"
   ]
  },
  {
   "cell_type": "markdown",
   "id": "aff416a2",
   "metadata": {},
   "source": [
    "## Overall model"
   ]
  },
  {
   "cell_type": "code",
   "execution_count": 51,
   "id": "41c0c19e",
   "metadata": {},
   "outputs": [
    {
     "name": "stdout",
     "output_type": "stream",
     "text": [
      "[[216   3]\n",
      " [  8  13]]\n",
      "              precision    recall  f1-score   support\n",
      "\n",
      "       False       0.96      0.99      0.98       219\n",
      "        True       0.81      0.62      0.70        21\n",
      "\n",
      "    accuracy                           0.95       240\n",
      "   macro avg       0.89      0.80      0.84       240\n",
      "weighted avg       0.95      0.95      0.95       240\n",
      "\n"
     ]
    }
   ],
   "source": [
    "print(confusion_matrix(y_test,FullRFC_pred))\n",
    "print(classification_report(y_test,FullRFC_pred))"
   ]
  },
  {
   "cell_type": "markdown",
   "id": "03acf4d8",
   "metadata": {},
   "source": [
    "## Model 1"
   ]
  },
  {
   "cell_type": "code",
   "execution_count": 52,
   "id": "745ce51d",
   "metadata": {},
   "outputs": [
    {
     "name": "stdout",
     "output_type": "stream",
     "text": [
      "[[215   4]\n",
      " [  8  13]]\n",
      "              precision    recall  f1-score   support\n",
      "\n",
      "       False       0.96      0.98      0.97       219\n",
      "        True       0.76      0.62      0.68        21\n",
      "\n",
      "    accuracy                           0.95       240\n",
      "   macro avg       0.86      0.80      0.83       240\n",
      "weighted avg       0.95      0.95      0.95       240\n",
      "\n"
     ]
    }
   ],
   "source": [
    "print(confusion_matrix(y_test,StatsRFC_pred))\n",
    "print(classification_report(y_test,StatsRFC_pred))"
   ]
  },
  {
   "cell_type": "markdown",
   "id": "66f27150",
   "metadata": {},
   "source": [
    "## Model 2"
   ]
  },
  {
   "cell_type": "code",
   "execution_count": 53,
   "id": "16b10675",
   "metadata": {},
   "outputs": [
    {
     "name": "stdout",
     "output_type": "stream",
     "text": [
      "[[214   5]\n",
      " [ 16   5]]\n",
      "              precision    recall  f1-score   support\n",
      "\n",
      "       False       0.93      0.98      0.95       219\n",
      "        True       0.50      0.24      0.32        21\n",
      "\n",
      "    accuracy                           0.91       240\n",
      "   macro avg       0.72      0.61      0.64       240\n",
      "weighted avg       0.89      0.91      0.90       240\n",
      "\n"
     ]
    }
   ],
   "source": [
    "print(confusion_matrix(y_test,CombatRFC_pred))\n",
    "print(classification_report(y_test,CombatRFC_pred))"
   ]
  },
  {
   "cell_type": "markdown",
   "id": "d8eb88f7",
   "metadata": {},
   "source": [
    "# Model 3"
   ]
  },
  {
   "cell_type": "code",
   "execution_count": 54,
   "id": "10fd3eb8",
   "metadata": {},
   "outputs": [
    {
     "name": "stdout",
     "output_type": "stream",
     "text": [
      "[[211   8]\n",
      " [  2  19]]\n",
      "              precision    recall  f1-score   support\n",
      "\n",
      "       False       0.99      0.96      0.98       219\n",
      "        True       0.70      0.90      0.79        21\n",
      "\n",
      "    accuracy                           0.96       240\n",
      "   macro avg       0.85      0.93      0.88       240\n",
      "weighted avg       0.97      0.96      0.96       240\n",
      "\n"
     ]
    }
   ],
   "source": [
    "print(confusion_matrix(y_test,StatsGRFC_pred))\n",
    "print(classification_report(y_test,StatsGRFC_pred))"
   ]
  },
  {
   "cell_type": "markdown",
   "id": "d24932ad",
   "metadata": {},
   "source": [
    "# Model 4"
   ]
  },
  {
   "cell_type": "code",
   "execution_count": 55,
   "id": "27b20608",
   "metadata": {
    "scrolled": true
   },
   "outputs": [
    {
     "name": "stdout",
     "output_type": "stream",
     "text": [
      "[[216   3]\n",
      " [ 12   9]]\n",
      "              precision    recall  f1-score   support\n",
      "\n",
      "       False       0.95      0.99      0.97       219\n",
      "        True       0.75      0.43      0.55        21\n",
      "\n",
      "    accuracy                           0.94       240\n",
      "   macro avg       0.85      0.71      0.76       240\n",
      "weighted avg       0.93      0.94      0.93       240\n",
      "\n"
     ]
    }
   ],
   "source": [
    "print(confusion_matrix(y_test,KeydataGRFC_pred))\n",
    "print(classification_report(y_test,KeydataGRFC_pred))"
   ]
  },
  {
   "cell_type": "markdown",
   "id": "5ddb46bc",
   "metadata": {},
   "source": [
    "# Model 5"
   ]
  },
  {
   "cell_type": "code",
   "execution_count": 56,
   "id": "f384b826",
   "metadata": {},
   "outputs": [
    {
     "name": "stdout",
     "output_type": "stream",
     "text": [
      "[[214   5]\n",
      " [  7  14]]\n",
      "              precision    recall  f1-score   support\n",
      "\n",
      "       False       0.97      0.98      0.97       219\n",
      "        True       0.74      0.67      0.70        21\n",
      "\n",
      "    accuracy                           0.95       240\n",
      "   macro avg       0.85      0.82      0.84       240\n",
      "weighted avg       0.95      0.95      0.95       240\n",
      "\n"
     ]
    }
   ],
   "source": [
    "print(confusion_matrix(y_test,KeydataRFC_pred))\n",
    "print(classification_report(y_test,KeydataRFC_pred))"
   ]
  }
 ],
 "metadata": {
  "kernelspec": {
   "display_name": "Python 3 (ipykernel)",
   "language": "python",
   "name": "python3"
  },
  "language_info": {
   "codemirror_mode": {
    "name": "ipython",
    "version": 3
   },
   "file_extension": ".py",
   "mimetype": "text/x-python",
   "name": "python",
   "nbconvert_exporter": "python",
   "pygments_lexer": "ipython3",
   "version": "3.9.7"
  }
 },
 "nbformat": 4,
 "nbformat_minor": 5
}
