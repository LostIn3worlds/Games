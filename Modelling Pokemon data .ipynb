{
 "cells": [
  {
   "cell_type": "markdown",
   "id": "bed5a96e",
   "metadata": {},
   "source": [
    "# Introduction\n",
    "This project builds upon the previous project analysing the data. As such the data analysing aspects will be minimal and some reasonings examined in that project will not be fully explained here.\n",
    "\n",
    "Previously, it was established that a model could perhaps be structured to predict whether a pokemon is Legendar. Subsequently, this project will be aiming to do so. However, to ensure that the model could be useful to the player,ideally, it need to function on a limited amount of information rather than relying on all the variables. (*I question why anyone would need such a model even then but regardless*) This should provide an opportunity to investigate how various combinations of variables affect the accuracy of a model. \n",
    "\n",
    "The original data is accessible from [here](https://www.kaggle.com/abcsds/pokemon )"
   ]
  },
  {
   "cell_type": "markdown",
   "id": "91b919e9",
   "metadata": {},
   "source": [
    "# Import data and libraries "
   ]
  },
  {
   "cell_type": "code",
   "execution_count": 1,
   "id": "015adfdd",
   "metadata": {},
   "outputs": [],
   "source": [
    "import numpy as np \n",
    "import pandas as pd \n",
    "import matplotlib.pyplot as plt\n",
    "import seaborn as sns\n",
    "%matplotlib inline\n",
    "\n",
    "from sklearn.model_selection import train_test_split\n",
    "from sklearn.tree import DecisionTreeClassifier\n",
    "from sklearn.metrics import classification_report,confusion_matrix\n",
    "from sklearn.ensemble import RandomForestClassifier\n"
   ]
  },
  {
   "cell_type": "code",
   "execution_count": 2,
   "id": "a69495ea",
   "metadata": {},
   "outputs": [],
   "source": [
    "pokemon = pd.read_csv(\"Pokemon.csv\", index_col = \"#\")"
   ]
  },
  {
   "cell_type": "markdown",
   "id": "0363caca",
   "metadata": {},
   "source": [
    "# General Overview of data\n",
    "Whilst the exploration of the data will be limited, key information for the data are as follows. "
   ]
  },
  {
   "cell_type": "code",
   "execution_count": 3,
   "id": "72ceccef",
   "metadata": {
    "scrolled": false
   },
   "outputs": [
    {
     "data": {
      "text/html": [
       "<div>\n",
       "<style scoped>\n",
       "    .dataframe tbody tr th:only-of-type {\n",
       "        vertical-align: middle;\n",
       "    }\n",
       "\n",
       "    .dataframe tbody tr th {\n",
       "        vertical-align: top;\n",
       "    }\n",
       "\n",
       "    .dataframe thead th {\n",
       "        text-align: right;\n",
       "    }\n",
       "</style>\n",
       "<table border=\"1\" class=\"dataframe\">\n",
       "  <thead>\n",
       "    <tr style=\"text-align: right;\">\n",
       "      <th></th>\n",
       "      <th>Name</th>\n",
       "      <th>Type 1</th>\n",
       "      <th>Type 2</th>\n",
       "      <th>Total</th>\n",
       "      <th>HP</th>\n",
       "      <th>Attack</th>\n",
       "      <th>Defense</th>\n",
       "      <th>Sp. Atk</th>\n",
       "      <th>Sp. Def</th>\n",
       "      <th>Speed</th>\n",
       "      <th>Generation</th>\n",
       "      <th>Legendary</th>\n",
       "    </tr>\n",
       "    <tr>\n",
       "      <th>#</th>\n",
       "      <th></th>\n",
       "      <th></th>\n",
       "      <th></th>\n",
       "      <th></th>\n",
       "      <th></th>\n",
       "      <th></th>\n",
       "      <th></th>\n",
       "      <th></th>\n",
       "      <th></th>\n",
       "      <th></th>\n",
       "      <th></th>\n",
       "      <th></th>\n",
       "    </tr>\n",
       "  </thead>\n",
       "  <tbody>\n",
       "    <tr>\n",
       "      <th>1</th>\n",
       "      <td>Bulbasaur</td>\n",
       "      <td>Grass</td>\n",
       "      <td>Poison</td>\n",
       "      <td>318</td>\n",
       "      <td>45</td>\n",
       "      <td>49</td>\n",
       "      <td>49</td>\n",
       "      <td>65</td>\n",
       "      <td>65</td>\n",
       "      <td>45</td>\n",
       "      <td>1</td>\n",
       "      <td>False</td>\n",
       "    </tr>\n",
       "    <tr>\n",
       "      <th>2</th>\n",
       "      <td>Ivysaur</td>\n",
       "      <td>Grass</td>\n",
       "      <td>Poison</td>\n",
       "      <td>405</td>\n",
       "      <td>60</td>\n",
       "      <td>62</td>\n",
       "      <td>63</td>\n",
       "      <td>80</td>\n",
       "      <td>80</td>\n",
       "      <td>60</td>\n",
       "      <td>1</td>\n",
       "      <td>False</td>\n",
       "    </tr>\n",
       "    <tr>\n",
       "      <th>3</th>\n",
       "      <td>Venusaur</td>\n",
       "      <td>Grass</td>\n",
       "      <td>Poison</td>\n",
       "      <td>525</td>\n",
       "      <td>80</td>\n",
       "      <td>82</td>\n",
       "      <td>83</td>\n",
       "      <td>100</td>\n",
       "      <td>100</td>\n",
       "      <td>80</td>\n",
       "      <td>1</td>\n",
       "      <td>False</td>\n",
       "    </tr>\n",
       "    <tr>\n",
       "      <th>3</th>\n",
       "      <td>VenusaurMega Venusaur</td>\n",
       "      <td>Grass</td>\n",
       "      <td>Poison</td>\n",
       "      <td>625</td>\n",
       "      <td>80</td>\n",
       "      <td>100</td>\n",
       "      <td>123</td>\n",
       "      <td>122</td>\n",
       "      <td>120</td>\n",
       "      <td>80</td>\n",
       "      <td>1</td>\n",
       "      <td>False</td>\n",
       "    </tr>\n",
       "    <tr>\n",
       "      <th>4</th>\n",
       "      <td>Charmander</td>\n",
       "      <td>Fire</td>\n",
       "      <td>NaN</td>\n",
       "      <td>309</td>\n",
       "      <td>39</td>\n",
       "      <td>52</td>\n",
       "      <td>43</td>\n",
       "      <td>60</td>\n",
       "      <td>50</td>\n",
       "      <td>65</td>\n",
       "      <td>1</td>\n",
       "      <td>False</td>\n",
       "    </tr>\n",
       "  </tbody>\n",
       "</table>\n",
       "</div>"
      ],
      "text/plain": [
       "                    Name Type 1  Type 2  Total  HP  Attack  Defense  Sp. Atk  \\\n",
       "#                                                                              \n",
       "1              Bulbasaur  Grass  Poison    318  45      49       49       65   \n",
       "2                Ivysaur  Grass  Poison    405  60      62       63       80   \n",
       "3               Venusaur  Grass  Poison    525  80      82       83      100   \n",
       "3  VenusaurMega Venusaur  Grass  Poison    625  80     100      123      122   \n",
       "4             Charmander   Fire     NaN    309  39      52       43       60   \n",
       "\n",
       "   Sp. Def  Speed  Generation  Legendary  \n",
       "#                                         \n",
       "1       65     45           1      False  \n",
       "2       80     60           1      False  \n",
       "3      100     80           1      False  \n",
       "3      120     80           1      False  \n",
       "4       50     65           1      False  "
      ]
     },
     "execution_count": 3,
     "metadata": {},
     "output_type": "execute_result"
    }
   ],
   "source": [
    "pokemon.head()"
   ]
  },
  {
   "cell_type": "code",
   "execution_count": 4,
   "id": "5f5ec14e",
   "metadata": {},
   "outputs": [
    {
     "name": "stdout",
     "output_type": "stream",
     "text": [
      "<class 'pandas.core.frame.DataFrame'>\n",
      "Int64Index: 800 entries, 1 to 721\n",
      "Data columns (total 12 columns):\n",
      " #   Column      Non-Null Count  Dtype \n",
      "---  ------      --------------  ----- \n",
      " 0   Name        800 non-null    object\n",
      " 1   Type 1      800 non-null    object\n",
      " 2   Type 2      414 non-null    object\n",
      " 3   Total       800 non-null    int64 \n",
      " 4   HP          800 non-null    int64 \n",
      " 5   Attack      800 non-null    int64 \n",
      " 6   Defense     800 non-null    int64 \n",
      " 7   Sp. Atk     800 non-null    int64 \n",
      " 8   Sp. Def     800 non-null    int64 \n",
      " 9   Speed       800 non-null    int64 \n",
      " 10  Generation  800 non-null    int64 \n",
      " 11  Legendary   800 non-null    bool  \n",
      "dtypes: bool(1), int64(8), object(3)\n",
      "memory usage: 75.8+ KB\n"
     ]
    }
   ],
   "source": [
    "pokemon.info()"
   ]
  },
  {
   "cell_type": "code",
   "execution_count": 5,
   "id": "8cd245b3",
   "metadata": {
    "scrolled": false
   },
   "outputs": [
    {
     "data": {
      "text/html": [
       "<div>\n",
       "<style scoped>\n",
       "    .dataframe tbody tr th:only-of-type {\n",
       "        vertical-align: middle;\n",
       "    }\n",
       "\n",
       "    .dataframe tbody tr th {\n",
       "        vertical-align: top;\n",
       "    }\n",
       "\n",
       "    .dataframe thead th {\n",
       "        text-align: right;\n",
       "    }\n",
       "</style>\n",
       "<table border=\"1\" class=\"dataframe\">\n",
       "  <thead>\n",
       "    <tr style=\"text-align: right;\">\n",
       "      <th></th>\n",
       "      <th>Total</th>\n",
       "      <th>HP</th>\n",
       "      <th>Attack</th>\n",
       "      <th>Defense</th>\n",
       "      <th>Sp. Atk</th>\n",
       "      <th>Sp. Def</th>\n",
       "      <th>Speed</th>\n",
       "      <th>Generation</th>\n",
       "    </tr>\n",
       "  </thead>\n",
       "  <tbody>\n",
       "    <tr>\n",
       "      <th>count</th>\n",
       "      <td>800.00000</td>\n",
       "      <td>800.000000</td>\n",
       "      <td>800.000000</td>\n",
       "      <td>800.000000</td>\n",
       "      <td>800.000000</td>\n",
       "      <td>800.000000</td>\n",
       "      <td>800.000000</td>\n",
       "      <td>800.00000</td>\n",
       "    </tr>\n",
       "    <tr>\n",
       "      <th>mean</th>\n",
       "      <td>435.10250</td>\n",
       "      <td>69.258750</td>\n",
       "      <td>79.001250</td>\n",
       "      <td>73.842500</td>\n",
       "      <td>72.820000</td>\n",
       "      <td>71.902500</td>\n",
       "      <td>68.277500</td>\n",
       "      <td>3.32375</td>\n",
       "    </tr>\n",
       "    <tr>\n",
       "      <th>std</th>\n",
       "      <td>119.96304</td>\n",
       "      <td>25.534669</td>\n",
       "      <td>32.457366</td>\n",
       "      <td>31.183501</td>\n",
       "      <td>32.722294</td>\n",
       "      <td>27.828916</td>\n",
       "      <td>29.060474</td>\n",
       "      <td>1.66129</td>\n",
       "    </tr>\n",
       "    <tr>\n",
       "      <th>min</th>\n",
       "      <td>180.00000</td>\n",
       "      <td>1.000000</td>\n",
       "      <td>5.000000</td>\n",
       "      <td>5.000000</td>\n",
       "      <td>10.000000</td>\n",
       "      <td>20.000000</td>\n",
       "      <td>5.000000</td>\n",
       "      <td>1.00000</td>\n",
       "    </tr>\n",
       "    <tr>\n",
       "      <th>25%</th>\n",
       "      <td>330.00000</td>\n",
       "      <td>50.000000</td>\n",
       "      <td>55.000000</td>\n",
       "      <td>50.000000</td>\n",
       "      <td>49.750000</td>\n",
       "      <td>50.000000</td>\n",
       "      <td>45.000000</td>\n",
       "      <td>2.00000</td>\n",
       "    </tr>\n",
       "    <tr>\n",
       "      <th>50%</th>\n",
       "      <td>450.00000</td>\n",
       "      <td>65.000000</td>\n",
       "      <td>75.000000</td>\n",
       "      <td>70.000000</td>\n",
       "      <td>65.000000</td>\n",
       "      <td>70.000000</td>\n",
       "      <td>65.000000</td>\n",
       "      <td>3.00000</td>\n",
       "    </tr>\n",
       "    <tr>\n",
       "      <th>75%</th>\n",
       "      <td>515.00000</td>\n",
       "      <td>80.000000</td>\n",
       "      <td>100.000000</td>\n",
       "      <td>90.000000</td>\n",
       "      <td>95.000000</td>\n",
       "      <td>90.000000</td>\n",
       "      <td>90.000000</td>\n",
       "      <td>5.00000</td>\n",
       "    </tr>\n",
       "    <tr>\n",
       "      <th>max</th>\n",
       "      <td>780.00000</td>\n",
       "      <td>255.000000</td>\n",
       "      <td>190.000000</td>\n",
       "      <td>230.000000</td>\n",
       "      <td>194.000000</td>\n",
       "      <td>230.000000</td>\n",
       "      <td>180.000000</td>\n",
       "      <td>6.00000</td>\n",
       "    </tr>\n",
       "  </tbody>\n",
       "</table>\n",
       "</div>"
      ],
      "text/plain": [
       "           Total          HP      Attack     Defense     Sp. Atk     Sp. Def  \\\n",
       "count  800.00000  800.000000  800.000000  800.000000  800.000000  800.000000   \n",
       "mean   435.10250   69.258750   79.001250   73.842500   72.820000   71.902500   \n",
       "std    119.96304   25.534669   32.457366   31.183501   32.722294   27.828916   \n",
       "min    180.00000    1.000000    5.000000    5.000000   10.000000   20.000000   \n",
       "25%    330.00000   50.000000   55.000000   50.000000   49.750000   50.000000   \n",
       "50%    450.00000   65.000000   75.000000   70.000000   65.000000   70.000000   \n",
       "75%    515.00000   80.000000  100.000000   90.000000   95.000000   90.000000   \n",
       "max    780.00000  255.000000  190.000000  230.000000  194.000000  230.000000   \n",
       "\n",
       "            Speed  Generation  \n",
       "count  800.000000   800.00000  \n",
       "mean    68.277500     3.32375  \n",
       "std     29.060474     1.66129  \n",
       "min      5.000000     1.00000  \n",
       "25%     45.000000     2.00000  \n",
       "50%     65.000000     3.00000  \n",
       "75%     90.000000     5.00000  \n",
       "max    180.000000     6.00000  "
      ]
     },
     "execution_count": 5,
     "metadata": {},
     "output_type": "execute_result"
    }
   ],
   "source": [
    "pokemon.describe()"
   ]
  },
  {
   "cell_type": "markdown",
   "id": "f5566020",
   "metadata": {},
   "source": [
    "## Total column\n",
    "Please note, as established in the previous project, the total columns is the sum of the other numerical columns. "
   ]
  },
  {
   "cell_type": "code",
   "execution_count": 6,
   "id": "f4d51285",
   "metadata": {
    "scrolled": true
   },
   "outputs": [
    {
     "data": {
      "text/plain": [
       "Name          False\n",
       "Type 1        False\n",
       "Type 2        False\n",
       "Total         False\n",
       "HP            False\n",
       "Attack        False\n",
       "Defense       False\n",
       "Sp. Atk       False\n",
       "Sp. Def       False\n",
       "Speed         False\n",
       "Generation    False\n",
       "Legendary     False\n",
       "Sum           False\n",
       "dtype: bool"
      ]
     },
     "execution_count": 6,
     "metadata": {},
     "output_type": "execute_result"
    }
   ],
   "source": [
    "pokemon[\"Sum\"] = pokemon[['HP', 'Attack', 'Defense',\n",
    "       'Sp. Atk', 'Sp. Def', 'Speed']].sum(axis = 1)\n",
    "\n",
    "pokemon[pokemon[\"Sum\"]!=pokemon[\"Total\"]].any()"
   ]
  },
  {
   "cell_type": "code",
   "execution_count": 7,
   "id": "815d8af9",
   "metadata": {},
   "outputs": [],
   "source": [
    "pokemon.drop(\"Sum\", axis = 1, inplace = True)"
   ]
  },
  {
   "cell_type": "markdown",
   "id": "24d010f3",
   "metadata": {},
   "source": [
    "# Legendary\n",
    "The outcome variable or \"y\" variable in this model is the Legendary column. The following graphs show how the Legendary status differs from non-Legendary in key variables."
   ]
  },
  {
   "cell_type": "code",
   "execution_count": 8,
   "id": "da55817a",
   "metadata": {},
   "outputs": [],
   "source": [
    "sns.set(style=\"ticks\")"
   ]
  },
  {
   "cell_type": "code",
   "execution_count": 9,
   "id": "2dea503a",
   "metadata": {
    "scrolled": true
   },
   "outputs": [
    {
     "data": {
      "text/plain": [
       "Text(0.5, 1.0, 'Attack vs Defense and Legendary data')"
      ]
     },
     "execution_count": 9,
     "metadata": {},
     "output_type": "execute_result"
    },
    {
     "data": {
      "image/png": "[encoded data removed]",
      "text/plain": [
       "<Figure size 498.35x432 with 1 Axes>"
      ]
     },
     "metadata": {},
     "output_type": "display_data"
    }
   ],
   "source": [
    "sns.lmplot(x = \"Attack\", y = \"Defense\", data = pokemon, hue = \"Legendary\", height = 6, fit_reg = False)\n",
    "plt.title(\"Attack vs Defense and Legendary data\", fontsize = 16)"
   ]
  },
  {
   "cell_type": "code",
   "execution_count": 10,
   "id": "74f8a1ca",
   "metadata": {},
   "outputs": [
    {
     "data": {
      "text/plain": [
       "Text(0.5, 1.0, 'Sp. Atk vs Sp. Def and Legendary data')"
      ]
     },
     "execution_count": 10,
     "metadata": {},
     "output_type": "execute_result"
    },
    {
     "data": {
      "image/png": "[encoded data removed]",
      "text/plain": [
       "<Figure size 498.35x432 with 1 Axes>"
      ]
     },
     "metadata": {},
     "output_type": "display_data"
    }
   ],
   "source": [
    "sns.lmplot(x = \"Sp. Atk\", y = \"Sp. Def\", data = pokemon, hue = \"Legendary\", height = 6, fit_reg = False)\n",
    "plt.title(\"Sp. Atk vs Sp. Def and Legendary data\", fontsize = 16)"
   ]
  },
  {
   "cell_type": "code",
   "execution_count": 11,
   "id": "d1159fa2",
   "metadata": {},
   "outputs": [
    {
     "data": {
      "text/plain": [
       "Text(0.5, 1.0, 'Distribution of Speed separated by Legendary')"
      ]
     },
     "execution_count": 11,
     "metadata": {},
     "output_type": "execute_result"
    },
    {
     "data": {
      "image/png": "[encoded data removed]",
      "text/plain": [
       "<Figure size 432x432 with 1 Axes>"
      ]
     },
     "metadata": {},
     "output_type": "display_data"
    }
   ],
   "source": [
    "g = sns.FacetGrid(pokemon, hue = \"Legendary\", height = 6)\n",
    "g.map( sns.histplot, \"Speed\", bins = 10)\n",
    "plt.title(\"Distribution of Speed separated by Legendary\", fontsize = 16)"
   ]
  },
  {
   "cell_type": "code",
   "execution_count": 12,
   "id": "d602e114",
   "metadata": {
    "scrolled": false
   },
   "outputs": [
    {
     "data": {
      "text/plain": [
       "Text(0.5, 1.0, 'Frequency of Type 1 data seperated by Legendary')"
      ]
     },
     "execution_count": 12,
     "metadata": {},
     "output_type": "execute_result"
    },
    {
     "data": {
      "image/png": "[encoded data removed]",
      "text/plain": [
       "<Figure size 864x576 with 1 Axes>"
      ]
     },
     "metadata": {},
     "output_type": "display_data"
    }
   ],
   "source": [
    "plt.figure(figsize=(12,8))\n",
    "sns.countplot(x = \"Type 1\", data = pokemon, hue = \"Legendary\")\n",
    "plt.title(\"Frequency of Type 1 data seperated by Legendary\", fontsize = 16)"
   ]
  },
  {
   "cell_type": "markdown",
   "id": "8402f10f",
   "metadata": {},
   "source": [
    "# Skewed data \n",
    "Before proceeding with the models, it should be acknowledged that the data has considerably more non-Legendary pokemons and thus skewed in favour of not legendary. As the below information shows, only 8.1% of the data is pokemons with Legendary status. This means a model could simply predict that all pokemons are non-Legendary and it would remain fairly accurate (approx 91.9% accuracy). However this is not the intention of the model.\n",
    "\n",
    "One option to even out the distribution could be to alter the sample size by only using a specific generation or  type 1 as the percentage of Legendary pokemon differs under these parameters. "
   ]
  },
  {
   "cell_type": "code",
   "execution_count": 13,
   "id": "afb15fbb",
   "metadata": {
    "scrolled": true
   },
   "outputs": [
    {
     "data": {
      "text/plain": [
       "65"
      ]
     },
     "execution_count": 13,
     "metadata": {},
     "output_type": "execute_result"
    }
   ],
   "source": [
    "sum(pokemon[\"Legendary\"]== True)"
   ]
  },
  {
   "cell_type": "code",
   "execution_count": 14,
   "id": "394ae197",
   "metadata": {},
   "outputs": [
    {
     "data": {
      "text/plain": [
       "8.125"
      ]
     },
     "execution_count": 14,
     "metadata": {},
     "output_type": "execute_result"
    }
   ],
   "source": [
    "(sum(pokemon[\"Legendary\"]== True)/pokemon.shape[0])*100"
   ]
  },
  {
   "cell_type": "markdown",
   "id": "3de1d76a",
   "metadata": {},
   "source": [
    "For reference, the percentage of Legendary pokemons changes over time with some generations (generation 3) the percentage of Legendary pokemons was as high as 11.25%"
   ]
  },
  {
   "cell_type": "code",
   "execution_count": 15,
   "id": "54f20d1f",
   "metadata": {
    "scrolled": false
   },
   "outputs": [
    {
     "data": {
      "text/html": [
       "<div>\n",
       "<style scoped>\n",
       "    .dataframe tbody tr th:only-of-type {\n",
       "        vertical-align: middle;\n",
       "    }\n",
       "\n",
       "    .dataframe tbody tr th {\n",
       "        vertical-align: top;\n",
       "    }\n",
       "\n",
       "    .dataframe thead th {\n",
       "        text-align: right;\n",
       "    }\n",
       "</style>\n",
       "<table border=\"1\" class=\"dataframe\">\n",
       "  <thead>\n",
       "    <tr style=\"text-align: right;\">\n",
       "      <th></th>\n",
       "      <th>Attack</th>\n",
       "      <th>Defense</th>\n",
       "      <th>HP</th>\n",
       "      <th>Legendary</th>\n",
       "      <th>Sp. Atk</th>\n",
       "      <th>Sp. Def</th>\n",
       "      <th>Speed</th>\n",
       "      <th>Total</th>\n",
       "    </tr>\n",
       "    <tr>\n",
       "      <th>Generation</th>\n",
       "      <th></th>\n",
       "      <th></th>\n",
       "      <th></th>\n",
       "      <th></th>\n",
       "      <th></th>\n",
       "      <th></th>\n",
       "      <th></th>\n",
       "      <th></th>\n",
       "    </tr>\n",
       "  </thead>\n",
       "  <tbody>\n",
       "    <tr>\n",
       "      <th>1</th>\n",
       "      <td>76.638554</td>\n",
       "      <td>70.861446</td>\n",
       "      <td>65.819277</td>\n",
       "      <td>0.036145</td>\n",
       "      <td>71.819277</td>\n",
       "      <td>69.090361</td>\n",
       "      <td>72.584337</td>\n",
       "      <td>426.813253</td>\n",
       "    </tr>\n",
       "    <tr>\n",
       "      <th>2</th>\n",
       "      <td>72.028302</td>\n",
       "      <td>73.386792</td>\n",
       "      <td>71.207547</td>\n",
       "      <td>0.047170</td>\n",
       "      <td>65.943396</td>\n",
       "      <td>73.905660</td>\n",
       "      <td>61.811321</td>\n",
       "      <td>418.283019</td>\n",
       "    </tr>\n",
       "    <tr>\n",
       "      <th>3</th>\n",
       "      <td>81.625000</td>\n",
       "      <td>74.100000</td>\n",
       "      <td>66.543750</td>\n",
       "      <td>0.112500</td>\n",
       "      <td>75.806250</td>\n",
       "      <td>71.225000</td>\n",
       "      <td>66.925000</td>\n",
       "      <td>436.225000</td>\n",
       "    </tr>\n",
       "    <tr>\n",
       "      <th>4</th>\n",
       "      <td>82.867769</td>\n",
       "      <td>78.132231</td>\n",
       "      <td>73.082645</td>\n",
       "      <td>0.107438</td>\n",
       "      <td>76.404959</td>\n",
       "      <td>77.190083</td>\n",
       "      <td>71.338843</td>\n",
       "      <td>459.016529</td>\n",
       "    </tr>\n",
       "    <tr>\n",
       "      <th>5</th>\n",
       "      <td>82.066667</td>\n",
       "      <td>72.327273</td>\n",
       "      <td>71.787879</td>\n",
       "      <td>0.090909</td>\n",
       "      <td>71.987879</td>\n",
       "      <td>68.739394</td>\n",
       "      <td>68.078788</td>\n",
       "      <td>434.987879</td>\n",
       "    </tr>\n",
       "    <tr>\n",
       "      <th>6</th>\n",
       "      <td>75.804878</td>\n",
       "      <td>76.682927</td>\n",
       "      <td>68.268293</td>\n",
       "      <td>0.097561</td>\n",
       "      <td>74.292683</td>\n",
       "      <td>74.890244</td>\n",
       "      <td>66.439024</td>\n",
       "      <td>436.378049</td>\n",
       "    </tr>\n",
       "  </tbody>\n",
       "</table>\n",
       "</div>"
      ],
      "text/plain": [
       "               Attack    Defense         HP  Legendary    Sp. Atk    Sp. Def  \\\n",
       "Generation                                                                     \n",
       "1           76.638554  70.861446  65.819277   0.036145  71.819277  69.090361   \n",
       "2           72.028302  73.386792  71.207547   0.047170  65.943396  73.905660   \n",
       "3           81.625000  74.100000  66.543750   0.112500  75.806250  71.225000   \n",
       "4           82.867769  78.132231  73.082645   0.107438  76.404959  77.190083   \n",
       "5           82.066667  72.327273  71.787879   0.090909  71.987879  68.739394   \n",
       "6           75.804878  76.682927  68.268293   0.097561  74.292683  74.890244   \n",
       "\n",
       "                Speed       Total  \n",
       "Generation                         \n",
       "1           72.584337  426.813253  \n",
       "2           61.811321  418.283019  \n",
       "3           66.925000  436.225000  \n",
       "4           71.338843  459.016529  \n",
       "5           68.078788  434.987879  \n",
       "6           66.439024  436.378049  "
      ]
     },
     "execution_count": 15,
     "metadata": {},
     "output_type": "execute_result"
    }
   ],
   "source": [
    "pd.pivot_table(pokemon,index=[\"Generation\"])"
   ]
  },
  {
   "cell_type": "markdown",
   "id": "428b36f5",
   "metadata": {},
   "source": [
    "Some pokemon Type 1 also have a higher Legendary percentage but the Type 1 categories are not evenly distributed throughout the dataset. Flying type pokemons are particularly rare in this dataset."
   ]
  },
  {
   "cell_type": "code",
   "execution_count": 16,
   "id": "be176ddc",
   "metadata": {
    "scrolled": true
   },
   "outputs": [
    {
     "data": {
      "text/plain": [
       "Type 1\n",
       "Flying     0.500000\n",
       "Dragon     0.375000\n",
       "Psychic    0.245614\n",
       "Steel      0.148148\n",
       "Ground     0.125000\n",
       "Name: Legendary, dtype: float64"
      ]
     },
     "execution_count": 16,
     "metadata": {},
     "output_type": "execute_result"
    }
   ],
   "source": [
    "pivot = pd.pivot_table(pokemon,index=[\"Type 1\"],)\n",
    "pivot[\"Legendary\"].sort_values(ascending = False).head()"
   ]
  },
  {
   "cell_type": "markdown",
   "id": "0d1e261d",
   "metadata": {},
   "source": [
    "# Modelling the data\n",
    "There are different models that could be used to predict legendary. However, for this project in specific, the RandomForecest has been chosen, with variables interchanged to compare its effect on the accuracy of the model.  \n",
    " "
   ]
  },
  {
   "cell_type": "markdown",
   "id": "c9e24eeb",
   "metadata": {},
   "source": [
    "## Overall model\n",
    "The overall model would be one which examines all/most variables for a pokemon and uses it to predict whether it is legendary. Without altering the sample data to balance the sample data, this may be the best model as it has the most amount of information. "
   ]
  },
  {
   "cell_type": "markdown",
   "id": "a62efffe",
   "metadata": {},
   "source": [
    "### Catogirical string variables"
   ]
  },
  {
   "cell_type": "markdown",
   "id": "200cb94f",
   "metadata": {},
   "source": [
    "Prior to the creation of the model, the two string categories, Type 1 and Type 2, need to be converted, such that the models can process them correctly. Although there are a number of different options for this, as there are several variables in each column, encoding the data may be the best option. For instance, there are 18 variables in each column. If these variables are converted to dummies, up to 17 new columns would be created for each type. "
   ]
  },
  {
   "cell_type": "code",
   "execution_count": 17,
   "id": "fd052d08",
   "metadata": {},
   "outputs": [
    {
     "data": {
      "text/plain": [
       "18"
      ]
     },
     "execution_count": 17,
     "metadata": {},
     "output_type": "execute_result"
    }
   ],
   "source": [
    "pokemon[\"Type 1\"].nunique()"
   ]
  },
  {
   "cell_type": "code",
   "execution_count": 18,
   "id": "950a1321",
   "metadata": {},
   "outputs": [
    {
     "data": {
      "text/plain": [
       "18"
      ]
     },
     "execution_count": 18,
     "metadata": {},
     "output_type": "execute_result"
    }
   ],
   "source": [
    "pokemon[\"Type 2\"].nunique()"
   ]
  },
  {
   "cell_type": "code",
   "execution_count": 19,
   "id": "8dc809df",
   "metadata": {},
   "outputs": [],
   "source": [
    "from sklearn.preprocessing import LabelEncoder"
   ]
  },
  {
   "cell_type": "code",
   "execution_count": 20,
   "id": "e451518c",
   "metadata": {},
   "outputs": [],
   "source": [
    "le = LabelEncoder()\n",
    "pokemon['Type 1 Code'] = le.fit_transform(pokemon['Type 1'])\n",
    "pokemon['Type 2 Code'] = le.fit_transform(pokemon['Type 2'])\n",
    "pokemon = pokemon.drop([\"Type 1\", \"Type 2\"], axis =1)"
   ]
  },
  {
   "cell_type": "code",
   "execution_count": 21,
   "id": "85f6c445",
   "metadata": {},
   "outputs": [],
   "source": [
    "pokemon.drop('Name',axis=1,inplace=True)"
   ]
  },
  {
   "cell_type": "code",
   "execution_count": 22,
   "id": "5d91f530",
   "metadata": {
    "scrolled": true
   },
   "outputs": [
    {
     "data": {
      "text/html": [
       "<div>\n",
       "<style scoped>\n",
       "    .dataframe tbody tr th:only-of-type {\n",
       "        vertical-align: middle;\n",
       "    }\n",
       "\n",
       "    .dataframe tbody tr th {\n",
       "        vertical-align: top;\n",
       "    }\n",
       "\n",
       "    .dataframe thead th {\n",
       "        text-align: right;\n",
       "    }\n",
       "</style>\n",
       "<table border=\"1\" class=\"dataframe\">\n",
       "  <thead>\n",
       "    <tr style=\"text-align: right;\">\n",
       "      <th></th>\n",
       "      <th>Total</th>\n",
       "      <th>HP</th>\n",
       "      <th>Attack</th>\n",
       "      <th>Defense</th>\n",
       "      <th>Sp. Atk</th>\n",
       "      <th>Sp. Def</th>\n",
       "      <th>Speed</th>\n",
       "      <th>Generation</th>\n",
       "      <th>Legendary</th>\n",
       "      <th>Type 1 Code</th>\n",
       "      <th>Type 2 Code</th>\n",
       "    </tr>\n",
       "    <tr>\n",
       "      <th>#</th>\n",
       "      <th></th>\n",
       "      <th></th>\n",
       "      <th></th>\n",
       "      <th></th>\n",
       "      <th></th>\n",
       "      <th></th>\n",
       "      <th></th>\n",
       "      <th></th>\n",
       "      <th></th>\n",
       "      <th></th>\n",
       "      <th></th>\n",
       "    </tr>\n",
       "  </thead>\n",
       "  <tbody>\n",
       "    <tr>\n",
       "      <th>1</th>\n",
       "      <td>318</td>\n",
       "      <td>45</td>\n",
       "      <td>49</td>\n",
       "      <td>49</td>\n",
       "      <td>65</td>\n",
       "      <td>65</td>\n",
       "      <td>45</td>\n",
       "      <td>1</td>\n",
       "      <td>False</td>\n",
       "      <td>9</td>\n",
       "      <td>13</td>\n",
       "    </tr>\n",
       "    <tr>\n",
       "      <th>2</th>\n",
       "      <td>405</td>\n",
       "      <td>60</td>\n",
       "      <td>62</td>\n",
       "      <td>63</td>\n",
       "      <td>80</td>\n",
       "      <td>80</td>\n",
       "      <td>60</td>\n",
       "      <td>1</td>\n",
       "      <td>False</td>\n",
       "      <td>9</td>\n",
       "      <td>13</td>\n",
       "    </tr>\n",
       "    <tr>\n",
       "      <th>3</th>\n",
       "      <td>525</td>\n",
       "      <td>80</td>\n",
       "      <td>82</td>\n",
       "      <td>83</td>\n",
       "      <td>100</td>\n",
       "      <td>100</td>\n",
       "      <td>80</td>\n",
       "      <td>1</td>\n",
       "      <td>False</td>\n",
       "      <td>9</td>\n",
       "      <td>13</td>\n",
       "    </tr>\n",
       "    <tr>\n",
       "      <th>3</th>\n",
       "      <td>625</td>\n",
       "      <td>80</td>\n",
       "      <td>100</td>\n",
       "      <td>123</td>\n",
       "      <td>122</td>\n",
       "      <td>120</td>\n",
       "      <td>80</td>\n",
       "      <td>1</td>\n",
       "      <td>False</td>\n",
       "      <td>9</td>\n",
       "      <td>13</td>\n",
       "    </tr>\n",
       "    <tr>\n",
       "      <th>4</th>\n",
       "      <td>309</td>\n",
       "      <td>39</td>\n",
       "      <td>52</td>\n",
       "      <td>43</td>\n",
       "      <td>60</td>\n",
       "      <td>50</td>\n",
       "      <td>65</td>\n",
       "      <td>1</td>\n",
       "      <td>False</td>\n",
       "      <td>6</td>\n",
       "      <td>18</td>\n",
       "    </tr>\n",
       "  </tbody>\n",
       "</table>\n",
       "</div>"
      ],
      "text/plain": [
       "   Total  HP  Attack  Defense  Sp. Atk  Sp. Def  Speed  Generation  Legendary  \\\n",
       "#                                                                               \n",
       "1    318  45      49       49       65       65     45           1      False   \n",
       "2    405  60      62       63       80       80     60           1      False   \n",
       "3    525  80      82       83      100      100     80           1      False   \n",
       "3    625  80     100      123      122      120     80           1      False   \n",
       "4    309  39      52       43       60       50     65           1      False   \n",
       "\n",
       "   Type 1 Code  Type 2 Code  \n",
       "#                            \n",
       "1            9           13  \n",
       "2            9           13  \n",
       "3            9           13  \n",
       "3            9           13  \n",
       "4            6           18  "
      ]
     },
     "execution_count": 22,
     "metadata": {},
     "output_type": "execute_result"
    }
   ],
   "source": [
    "pokemon.head()"
   ]
  },
  {
   "cell_type": "markdown",
   "id": "cd0310c3",
   "metadata": {},
   "source": [
    "### Creating the model"
   ]
  },
  {
   "cell_type": "code",
   "execution_count": 23,
   "id": "97af32c9",
   "metadata": {},
   "outputs": [],
   "source": [
    "X = pokemon.drop('Legendary',axis=1)\n",
    "y = pokemon['Legendary']"
   ]
  },
  {
   "cell_type": "code",
   "execution_count": 24,
   "id": "29dbd4d8",
   "metadata": {},
   "outputs": [],
   "source": [
    "X_train, X_test, y_train, y_test = train_test_split(X, y, test_size=0.30, random_state = 101)"
   ]
  },
  {
   "cell_type": "code",
   "execution_count": 25,
   "id": "e3b92618",
   "metadata": {},
   "outputs": [
    {
     "data": {
      "text/plain": [
       "RandomForestClassifier()"
      ]
     },
     "execution_count": 25,
     "metadata": {},
     "output_type": "execute_result"
    }
   ],
   "source": [
    "FullRFC = RandomForestClassifier()\n",
    "FullRFC.fit(X_train, y_train)"
   ]
  },
  {
   "cell_type": "code",
   "execution_count": 26,
   "id": "e8b155bb",
   "metadata": {},
   "outputs": [],
   "source": [
    "FullRFC_pred = FullRFC.predict(X_test)"
   ]
  },
  {
   "cell_type": "code",
   "execution_count": 27,
   "id": "076794a9",
   "metadata": {
    "scrolled": false
   },
   "outputs": [
    {
     "name": "stdout",
     "output_type": "stream",
     "text": [
      "[[217   2]\n",
      " [  9  12]]\n",
      "              precision    recall  f1-score   support\n",
      "\n",
      "       False       0.96      0.99      0.98       219\n",
      "        True       0.86      0.57      0.69        21\n",
      "\n",
      "    accuracy                           0.95       240\n",
      "   macro avg       0.91      0.78      0.83       240\n",
      "weighted avg       0.95      0.95      0.95       240\n",
      "\n"
     ]
    }
   ],
   "source": [
    "print(confusion_matrix(y_test,FullRFC_pred))\n",
    "print(classification_report(y_test,FullRFC_pred))"
   ]
  },
  {
   "cell_type": "markdown",
   "id": "da1c4977",
   "metadata": {},
   "source": [
    "The accuracy in predicting the non Legendary pokemon is relatively high, with a f1 score of 98% which was expected. However the focus should be on the scores for Legendary pokemons (ie True values). In this model, the f1-scores for True values is 72%. "
   ]
  },
  {
   "cell_type": "markdown",
   "id": "86da4f87",
   "metadata": {},
   "source": [
    "The next stage of the project would be to attempt to create a model that has similar accuracies whilst using less variables. There are a plethora of opinions on selecting the combination of the variables. Therefore the below list of models are not an exhaustive list of combination and models that can be created. "
   ]
  },
  {
   "cell_type": "markdown",
   "id": "06b3d700",
   "metadata": {},
   "source": [
    "## Model 1 - Stats only\n",
    "The first model focuses on the numerical data: \n",
    "* HP\n",
    "* Attack\n",
    "* Defence\n",
    "* Sp. Atk\n",
    "* Sp. Def\n",
    "* Speed\n",
    "\n",
    "As established previously, these columns are surmised in the total column and as such this column will be used as the x variable. "
   ]
  },
  {
   "cell_type": "code",
   "execution_count": 28,
   "id": "02b37104",
   "metadata": {},
   "outputs": [],
   "source": [
    "Stats = pokemon[[ \"Total\"]]"
   ]
  },
  {
   "cell_type": "code",
   "execution_count": 29,
   "id": "52488efe",
   "metadata": {},
   "outputs": [],
   "source": [
    "X = Stats\n",
    "y = pokemon['Legendary']"
   ]
  },
  {
   "cell_type": "code",
   "execution_count": 30,
   "id": "e4136abb",
   "metadata": {},
   "outputs": [],
   "source": [
    "X_train, X_test, y_train, y_test = train_test_split(X, y, test_size=0.30, random_state = 101)"
   ]
  },
  {
   "cell_type": "code",
   "execution_count": 31,
   "id": "47b74c34",
   "metadata": {},
   "outputs": [
    {
     "data": {
      "text/plain": [
       "RandomForestClassifier()"
      ]
     },
     "execution_count": 31,
     "metadata": {},
     "output_type": "execute_result"
    }
   ],
   "source": [
    "StatsRFC = RandomForestClassifier()\n",
    "StatsRFC.fit(X_train, y_train)"
   ]
  },
  {
   "cell_type": "code",
   "execution_count": 32,
   "id": "1451edb6",
   "metadata": {},
   "outputs": [],
   "source": [
    "StatsRFC_pred = StatsRFC.predict(X_test)"
   ]
  },
  {
   "cell_type": "code",
   "execution_count": 33,
   "id": "5c4bf59e",
   "metadata": {
    "scrolled": true
   },
   "outputs": [
    {
     "name": "stdout",
     "output_type": "stream",
     "text": [
      "[[215   4]\n",
      " [  8  13]]\n",
      "              precision    recall  f1-score   support\n",
      "\n",
      "       False       0.96      0.98      0.97       219\n",
      "        True       0.76      0.62      0.68        21\n",
      "\n",
      "    accuracy                           0.95       240\n",
      "   macro avg       0.86      0.80      0.83       240\n",
      "weighted avg       0.95      0.95      0.95       240\n",
      "\n"
     ]
    }
   ],
   "source": [
    "print(confusion_matrix(y_test,StatsRFC_pred))\n",
    "print(classification_report(y_test,StatsRFC_pred))"
   ]
  },
  {
   "cell_type": "markdown",
   "id": "d5a2c093",
   "metadata": {},
   "source": [
    "As was expected the f1 scores for the True values has decreased and is now 68%. It may be interesting to note that whilst the F1 scores have decreased by 4 percentage points, the accuracy of the overall model has only fallen by 1 percentage point. "
   ]
  },
  {
   "cell_type": "markdown",
   "id": "507a60b8",
   "metadata": {},
   "source": [
    "# Model 2 - Combat data\n",
    "Model 2 culls the variables further with a view that a novice player may only focus on the below variables.\n",
    "* Attack\n",
    "* Defence\n",
    "* HP"
   ]
  },
  {
   "cell_type": "code",
   "execution_count": 34,
   "id": "5a67ceb7",
   "metadata": {},
   "outputs": [],
   "source": [
    "combat = pokemon[[\"Attack\",\"Defense\",\"HP\"]]"
   ]
  },
  {
   "cell_type": "code",
   "execution_count": 35,
   "id": "8c006070",
   "metadata": {},
   "outputs": [],
   "source": [
    "X = combat\n",
    "y = pokemon['Legendary']"
   ]
  },
  {
   "cell_type": "code",
   "execution_count": 36,
   "id": "fad860ab",
   "metadata": {},
   "outputs": [],
   "source": [
    "X_train, X_test, y_train, y_test = train_test_split(X, y, test_size=0.30, random_state = 101)"
   ]
  },
  {
   "cell_type": "code",
   "execution_count": 37,
   "id": "84eef379",
   "metadata": {},
   "outputs": [
    {
     "data": {
      "text/plain": [
       "RandomForestClassifier()"
      ]
     },
     "execution_count": 37,
     "metadata": {},
     "output_type": "execute_result"
    }
   ],
   "source": [
    "CombatRFC = RandomForestClassifier()\n",
    "CombatRFC.fit(X_train, y_train)"
   ]
  },
  {
   "cell_type": "code",
   "execution_count": 38,
   "id": "830d8d5a",
   "metadata": {},
   "outputs": [],
   "source": [
    "CombatRFC_pred = CombatRFC.predict(X_test)"
   ]
  },
  {
   "cell_type": "code",
   "execution_count": 39,
   "id": "e31b3f8b",
   "metadata": {},
   "outputs": [
    {
     "name": "stdout",
     "output_type": "stream",
     "text": [
      "[[213   6]\n",
      " [ 16   5]]\n",
      "              precision    recall  f1-score   support\n",
      "\n",
      "       False       0.93      0.97      0.95       219\n",
      "        True       0.45      0.24      0.31        21\n",
      "\n",
      "    accuracy                           0.91       240\n",
      "   macro avg       0.69      0.61      0.63       240\n",
      "weighted avg       0.89      0.91      0.90       240\n",
      "\n"
     ]
    }
   ],
   "source": [
    "print(confusion_matrix(y_test,CombatRFC_pred))\n",
    "print(classification_report(y_test,CombatRFC_pred))"
   ]
  },
  {
   "cell_type": "markdown",
   "id": "9dfa9d3c",
   "metadata": {},
   "source": [
    "Unsurprisingly the accuracy of the model has dropped significantly with an f1 score for True values scoring only 32%. "
   ]
  },
  {
   "cell_type": "markdown",
   "id": "60944e22",
   "metadata": {},
   "source": [
    "# Model 3 stats + generation\n",
    "Returning to model one, as we still exclude some variables, model 4 explores the impact of adding the generation variable into the model. \n"
   ]
  },
  {
   "cell_type": "code",
   "execution_count": 40,
   "id": "8c18f7e1",
   "metadata": {},
   "outputs": [],
   "source": [
    "StatsG = pokemon[[ \"Total\",\"Generation\"]]"
   ]
  },
  {
   "cell_type": "code",
   "execution_count": 41,
   "id": "08153609",
   "metadata": {},
   "outputs": [],
   "source": [
    "X = StatsG\n",
    "y = pokemon['Legendary']"
   ]
  },
  {
   "cell_type": "code",
   "execution_count": 42,
   "id": "19376bef",
   "metadata": {},
   "outputs": [],
   "source": [
    "X_train, X_test, y_train, y_test = train_test_split(X, y, test_size=0.30, random_state = 101)"
   ]
  },
  {
   "cell_type": "code",
   "execution_count": 43,
   "id": "3baea202",
   "metadata": {},
   "outputs": [
    {
     "data": {
      "text/plain": [
       "RandomForestClassifier()"
      ]
     },
     "execution_count": 43,
     "metadata": {},
     "output_type": "execute_result"
    }
   ],
   "source": [
    "StatsGRFC = RandomForestClassifier()\n",
    "StatsGRFC.fit(X_train, y_train)"
   ]
  },
  {
   "cell_type": "code",
   "execution_count": 44,
   "id": "cd000fbd",
   "metadata": {},
   "outputs": [],
   "source": [
    "StatsGRFC_pred = StatsGRFC.predict(X_test)"
   ]
  },
  {
   "cell_type": "code",
   "execution_count": 45,
   "id": "bffbb28a",
   "metadata": {},
   "outputs": [
    {
     "name": "stdout",
     "output_type": "stream",
     "text": [
      "[[212   7]\n",
      " [  4  17]]\n",
      "              precision    recall  f1-score   support\n",
      "\n",
      "       False       0.98      0.97      0.97       219\n",
      "        True       0.71      0.81      0.76        21\n",
      "\n",
      "    accuracy                           0.95       240\n",
      "   macro avg       0.84      0.89      0.87       240\n",
      "weighted avg       0.96      0.95      0.96       240\n",
      "\n"
     ]
    }
   ],
   "source": [
    "print(confusion_matrix(y_test,StatsGRFC_pred))\n",
    "print(classification_report(y_test,StatsGRFC_pred))"
   ]
  },
  {
   "cell_type": "markdown",
   "id": "e91648ab",
   "metadata": {},
   "source": [
    "Surprisingly this model scores better than the overall model in predicting the True values and the overall accuracy is also 1 percentage points higher than the overall model. It appears that perhaps the Type data may be having a negative effect on the True outcomes. "
   ]
  },
  {
   "cell_type": "markdown",
   "id": "1c081794",
   "metadata": {},
   "source": [
    "# Model 4 - Key stats + generation\n",
    "Keeping the generation factor, model 4 reduces some of the data concerning sp attack and sp defence. \n",
    "* HP\n",
    "* Attack\n",
    "* Defence\n",
    "* Speed\n",
    "* Generation\n"
   ]
  },
  {
   "cell_type": "code",
   "execution_count": 46,
   "id": "3a6818d8",
   "metadata": {},
   "outputs": [],
   "source": [
    "keydataG = pokemon.drop(['Total','Sp. Atk', 'Type 2 Code', 'Sp. Def',\"Type 1 Code\"], axis = 1)"
   ]
  },
  {
   "cell_type": "code",
   "execution_count": 47,
   "id": "05ea37ee",
   "metadata": {},
   "outputs": [],
   "source": [
    "X = keydataG.drop('Legendary',axis=1)\n",
    "y = keydataG['Legendary']"
   ]
  },
  {
   "cell_type": "code",
   "execution_count": 48,
   "id": "f8bc99c6",
   "metadata": {},
   "outputs": [],
   "source": [
    "X_train, X_test, y_train, y_test = train_test_split(X, y, test_size=0.30, random_state = 101)"
   ]
  },
  {
   "cell_type": "code",
   "execution_count": 49,
   "id": "0d80e92b",
   "metadata": {},
   "outputs": [
    {
     "data": {
      "text/plain": [
       "RandomForestClassifier()"
      ]
     },
     "execution_count": 49,
     "metadata": {},
     "output_type": "execute_result"
    }
   ],
   "source": [
    "KeydataGRFC = RandomForestClassifier()\n",
    "KeydataGRFC.fit(X_train, y_train)"
   ]
  },
  {
   "cell_type": "code",
   "execution_count": 50,
   "id": "bc0f17cc",
   "metadata": {},
   "outputs": [],
   "source": [
    "KeydataGRFC_pred = KeydataGRFC.predict(X_test)"
   ]
  },
  {
   "cell_type": "code",
   "execution_count": 51,
   "id": "085f7f35",
   "metadata": {
    "scrolled": false
   },
   "outputs": [
    {
     "name": "stdout",
     "output_type": "stream",
     "text": [
      "[[217   2]\n",
      " [ 12   9]]\n",
      "              precision    recall  f1-score   support\n",
      "\n",
      "       False       0.95      0.99      0.97       219\n",
      "        True       0.82      0.43      0.56        21\n",
      "\n",
      "    accuracy                           0.94       240\n",
      "   macro avg       0.88      0.71      0.77       240\n",
      "weighted avg       0.94      0.94      0.93       240\n",
      "\n"
     ]
    }
   ],
   "source": [
    "print(confusion_matrix(y_test,KeydataGRFC_pred))\n",
    "print(classification_report(y_test,KeydataGRFC_pred))"
   ]
  },
  {
   "cell_type": "markdown",
   "id": "c0bb5d05",
   "metadata": {},
   "source": [
    "Sadly the accuracy has dropped to 94% and the F1 scores are now at 56%. Therefore it seems that sp Attack and defence are valuable in the accuracy of the model. "
   ]
  },
  {
   "cell_type": "markdown",
   "id": "a6415090",
   "metadata": {},
   "source": [
    "# Model 5\n",
    "The final model reverits the attention back to the types data and explores whether it could compensate for Sp attack, Sp defence and generation being excluded from the data. \n",
    "* Type 1 \n",
    "* Type 2 \n",
    "* HP\n",
    "* Attack\n",
    "* Defence \n",
    "* Speed\n"
   ]
  },
  {
   "cell_type": "code",
   "execution_count": 52,
   "id": "04e2df68",
   "metadata": {},
   "outputs": [],
   "source": [
    "keydata = pokemon.drop(['Sp. Atk', 'Sp. Def',\"Generation\"], axis = 1)"
   ]
  },
  {
   "cell_type": "code",
   "execution_count": 53,
   "id": "531cc89b",
   "metadata": {},
   "outputs": [],
   "source": [
    "X = keydata.drop('Legendary',axis=1)\n",
    "y = keydata['Legendary']"
   ]
  },
  {
   "cell_type": "code",
   "execution_count": 54,
   "id": "9fd95079",
   "metadata": {},
   "outputs": [],
   "source": [
    "X_train, X_test, y_train, y_test = train_test_split(X, y, test_size=0.30, random_state = 101)"
   ]
  },
  {
   "cell_type": "code",
   "execution_count": 55,
   "id": "519fb0d8",
   "metadata": {},
   "outputs": [
    {
     "data": {
      "text/plain": [
       "RandomForestClassifier()"
      ]
     },
     "execution_count": 55,
     "metadata": {},
     "output_type": "execute_result"
    }
   ],
   "source": [
    "KeydataRFC = RandomForestClassifier()\n",
    "KeydataRFC.fit(X_train, y_train)"
   ]
  },
  {
   "cell_type": "code",
   "execution_count": 56,
   "id": "bcf41f9f",
   "metadata": {},
   "outputs": [],
   "source": [
    "KeydataRFC_pred = KeydataRFC.predict(X_test)"
   ]
  },
  {
   "cell_type": "code",
   "execution_count": 57,
   "id": "eb81b203",
   "metadata": {},
   "outputs": [
    {
     "name": "stdout",
     "output_type": "stream",
     "text": [
      "[[216   3]\n",
      " [ 10  11]]\n",
      "              precision    recall  f1-score   support\n",
      "\n",
      "       False       0.96      0.99      0.97       219\n",
      "        True       0.79      0.52      0.63        21\n",
      "\n",
      "    accuracy                           0.95       240\n",
      "   macro avg       0.87      0.76      0.80       240\n",
      "weighted avg       0.94      0.95      0.94       240\n",
      "\n"
     ]
    }
   ],
   "source": [
    "print(confusion_matrix(y_test,KeydataRFC_pred))\n",
    "print(classification_report(y_test,KeydataRFC_pred))"
   ]
  },
  {
   "cell_type": "markdown",
   "id": "75d19519",
   "metadata": {},
   "source": [
    "# Models and data"
   ]
  },
  {
   "cell_type": "markdown",
   "id": "aff416a2",
   "metadata": {},
   "source": [
    "## Overall model"
   ]
  },
  {
   "cell_type": "code",
   "execution_count": 58,
   "id": "41c0c19e",
   "metadata": {},
   "outputs": [
    {
     "name": "stdout",
     "output_type": "stream",
     "text": [
      "[[217   2]\n",
      " [  9  12]]\n",
      "              precision    recall  f1-score   support\n",
      "\n",
      "       False       0.96      0.99      0.98       219\n",
      "        True       0.86      0.57      0.69        21\n",
      "\n",
      "    accuracy                           0.95       240\n",
      "   macro avg       0.91      0.78      0.83       240\n",
      "weighted avg       0.95      0.95      0.95       240\n",
      "\n"
     ]
    }
   ],
   "source": [
    "print(confusion_matrix(y_test,FullRFC_pred))\n",
    "print(classification_report(y_test,FullRFC_pred))"
   ]
  },
  {
   "cell_type": "markdown",
   "id": "03acf4d8",
   "metadata": {},
   "source": [
    "## Model 1"
   ]
  },
  {
   "cell_type": "code",
   "execution_count": 59,
   "id": "745ce51d",
   "metadata": {},
   "outputs": [
    {
     "name": "stdout",
     "output_type": "stream",
     "text": [
      "[[215   4]\n",
      " [  8  13]]\n",
      "              precision    recall  f1-score   support\n",
      "\n",
      "       False       0.96      0.98      0.97       219\n",
      "        True       0.76      0.62      0.68        21\n",
      "\n",
      "    accuracy                           0.95       240\n",
      "   macro avg       0.86      0.80      0.83       240\n",
      "weighted avg       0.95      0.95      0.95       240\n",
      "\n"
     ]
    }
   ],
   "source": [
    "print(confusion_matrix(y_test,StatsRFC_pred))\n",
    "print(classification_report(y_test,StatsRFC_pred))"
   ]
  },
  {
   "cell_type": "markdown",
   "id": "66f27150",
   "metadata": {},
   "source": [
    "## Model 2"
   ]
  },
  {
   "cell_type": "code",
   "execution_count": 60,
   "id": "16b10675",
   "metadata": {},
   "outputs": [
    {
     "name": "stdout",
     "output_type": "stream",
     "text": [
      "[[213   6]\n",
      " [ 16   5]]\n",
      "              precision    recall  f1-score   support\n",
      "\n",
      "       False       0.93      0.97      0.95       219\n",
      "        True       0.45      0.24      0.31        21\n",
      "\n",
      "    accuracy                           0.91       240\n",
      "   macro avg       0.69      0.61      0.63       240\n",
      "weighted avg       0.89      0.91      0.90       240\n",
      "\n"
     ]
    }
   ],
   "source": [
    "print(confusion_matrix(y_test,CombatRFC_pred))\n",
    "print(classification_report(y_test,CombatRFC_pred))"
   ]
  },
  {
   "cell_type": "markdown",
   "id": "d8eb88f7",
   "metadata": {},
   "source": [
    "# Model 3"
   ]
  },
  {
   "cell_type": "code",
   "execution_count": 61,
   "id": "10fd3eb8",
   "metadata": {},
   "outputs": [
    {
     "name": "stdout",
     "output_type": "stream",
     "text": [
      "[[212   7]\n",
      " [  4  17]]\n",
      "              precision    recall  f1-score   support\n",
      "\n",
      "       False       0.98      0.97      0.97       219\n",
      "        True       0.71      0.81      0.76        21\n",
      "\n",
      "    accuracy                           0.95       240\n",
      "   macro avg       0.84      0.89      0.87       240\n",
      "weighted avg       0.96      0.95      0.96       240\n",
      "\n"
     ]
    }
   ],
   "source": [
    "print(confusion_matrix(y_test,StatsGRFC_pred))\n",
    "print(classification_report(y_test,StatsGRFC_pred))"
   ]
  },
  {
   "cell_type": "markdown",
   "id": "d24932ad",
   "metadata": {},
   "source": [
    "# Model 4"
   ]
  },
  {
   "cell_type": "code",
   "execution_count": 62,
   "id": "27b20608",
   "metadata": {
    "scrolled": true
   },
   "outputs": [
    {
     "name": "stdout",
     "output_type": "stream",
     "text": [
      "[[217   2]\n",
      " [ 12   9]]\n",
      "              precision    recall  f1-score   support\n",
      "\n",
      "       False       0.95      0.99      0.97       219\n",
      "        True       0.82      0.43      0.56        21\n",
      "\n",
      "    accuracy                           0.94       240\n",
      "   macro avg       0.88      0.71      0.77       240\n",
      "weighted avg       0.94      0.94      0.93       240\n",
      "\n"
     ]
    }
   ],
   "source": [
    "print(confusion_matrix(y_test,KeydataGRFC_pred))\n",
    "print(classification_report(y_test,KeydataGRFC_pred))"
   ]
  },
  {
   "cell_type": "markdown",
   "id": "5ddb46bc",
   "metadata": {},
   "source": [
    "# Model 5"
   ]
  },
  {
   "cell_type": "code",
   "execution_count": 63,
   "id": "f384b826",
   "metadata": {},
   "outputs": [
    {
     "name": "stdout",
     "output_type": "stream",
     "text": [
      "[[216   3]\n",
      " [ 10  11]]\n",
      "              precision    recall  f1-score   support\n",
      "\n",
      "       False       0.96      0.99      0.97       219\n",
      "        True       0.79      0.52      0.63        21\n",
      "\n",
      "    accuracy                           0.95       240\n",
      "   macro avg       0.87      0.76      0.80       240\n",
      "weighted avg       0.94      0.95      0.94       240\n",
      "\n"
     ]
    }
   ],
   "source": [
    "print(confusion_matrix(y_test,KeydataRFC_pred))\n",
    "print(classification_report(y_test,KeydataRFC_pred))"
   ]
  },
  {
   "cell_type": "markdown",
   "id": "68f0c4d3",
   "metadata": {},
   "source": [
    "# Conclusion\n",
    "\n",
    "\n",
    "\n",
    "\n",
    "\n"
   ]
  },
  {
   "cell_type": "markdown",
   "id": "51b50421",
   "metadata": {},
   "source": [
    "This was a lighthearted project exploring the possibility of predicting whether a pokemon is legendary based on other characteristics. As highlighted, models can include all other features about a pokemon. However, it is questionable how valuable a model would be if the player needs to know every other feature of the pokemon. \n",
    "\n",
    "Consequently  the second stage of the project explored whether the variables of the model could be reduced keeping all other factors the same and achieve a relatively similar rate of accuracy. As this experiment highlighted, variables can have differing impacts on a model. Whilst this list is not exhaustive, in this project the variables, \"Total\",\"Generation\" (Model 3), were shown to create the most accurate model. \n",
    "\n",
    "Going forward some aspects which may interest others would be whether the results change depending on the model, altering the sample, and trying other combinations of variables to name a few. For instance as the output is binary, logit could be an alternative model.  "
   ]
  },
  {
   "cell_type": "markdown",
   "id": "1f1766f6",
   "metadata": {},
   "source": [
    "*“The real voyage of discovery consists not in seeking new landscapes, but in having new eyes.”*\n",
    "― [Marcel Proust](https://www.goodreads.com/quotes/tag?utf8=%E2%9C%93&id=discovery)"
   ]
  },
  {
   "cell_type": "code",
   "execution_count": null,
   "id": "44d0abf5",
   "metadata": {},
   "outputs": [],
   "source": []
  }
 ],
 "metadata": {
  "kernelspec": {
   "display_name": "Python 3",
   "language": "python",
   "name": "python3"
  },
  "language_info": {
   "codemirror_mode": {
    "name": "ipython",
    "version": 3
   },
   "file_extension": ".py",
   "mimetype": "text/x-python",
   "name": "python",
   "nbconvert_exporter": "python",
   "pygments_lexer": "ipython3",
   "version": "3.8.8"
  }
 },
 "nbformat": 4,
 "nbformat_minor": 5
}
